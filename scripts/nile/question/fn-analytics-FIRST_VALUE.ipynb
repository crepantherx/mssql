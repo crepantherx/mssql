{
    "metadata": {
        "kernelspec": {
            "name": "SQL",
            "display_name": "SQL",
            "language": "sql"
        },
        "language_info": {
            "name": "sql",
            "version": ""
        }
    },
    "nbformat_minor": 2,
    "nbformat": 4,
    "cells": [
        {
            "cell_type": "code",
            "source": [
                "SELECT Name, ListPrice,\r\n",
                "       FIRST_VALUE(Name) OVER (ORDER BY ListPrice ASC) AS LeastExpensive\r\n",
                "FROM Production.Product\r\n",
                "WHERE ProductSubcategoryID = 37;"
            ],
            "metadata": {
                "azdata_cell_guid": "7b916a86-5210-42cd-904a-e781d6460159",
                "language": "sql"
            },
            "outputs": [
                {
                    "output_type": "display_data",
                    "data": {
                        "text/html": "(11 rows affected)"
                    },
                    "metadata": {}
                },
                {
                    "output_type": "display_data",
                    "data": {
                        "text/html": "Total execution time: 00:00:00.021"
                    },
                    "metadata": {}
                },
                {
                    "output_type": "execute_result",
                    "metadata": {},
                    "execution_count": 1,
                    "data": {
                        "application/vnd.dataresource+json": {
                            "schema": {
                                "fields": [
                                    {
                                        "name": "Name"
                                    },
                                    {
                                        "name": "ListPrice"
                                    },
                                    {
                                        "name": "LeastExpensive"
                                    }
                                ]
                            },
                            "data": [
                                {
                                    "0": "Patch Kit/8 Patches",
                                    "1": "2.29",
                                    "2": "Patch Kit/8 Patches"
                                },
                                {
                                    "0": "Road Tire Tube",
                                    "1": "3.99",
                                    "2": "Patch Kit/8 Patches"
                                },
                                {
                                    "0": "Touring Tire Tube",
                                    "1": "4.99",
                                    "2": "Patch Kit/8 Patches"
                                },
                                {
                                    "0": "Mountain Tire Tube",
                                    "1": "4.99",
                                    "2": "Patch Kit/8 Patches"
                                },
                                {
                                    "0": "LL Road Tire",
                                    "1": "21.49",
                                    "2": "Patch Kit/8 Patches"
                                },
                                {
                                    "0": "ML Road Tire",
                                    "1": "24.99",
                                    "2": "Patch Kit/8 Patches"
                                },
                                {
                                    "0": "LL Mountain Tire",
                                    "1": "24.99",
                                    "2": "Patch Kit/8 Patches"
                                },
                                {
                                    "0": "Touring Tire",
                                    "1": "28.99",
                                    "2": "Patch Kit/8 Patches"
                                },
                                {
                                    "0": "ML Mountain Tire",
                                    "1": "29.99",
                                    "2": "Patch Kit/8 Patches"
                                },
                                {
                                    "0": "HL Road Tire",
                                    "1": "32.60",
                                    "2": "Patch Kit/8 Patches"
                                },
                                {
                                    "0": "HL Mountain Tire",
                                    "1": "35.00",
                                    "2": "Patch Kit/8 Patches"
                                }
                            ]
                        },
                        "text/html": [
                            "<table>",
                            "<tr><th>Name</th><th>ListPrice</th><th>LeastExpensive</th></tr>",
                            "<tr><td>Patch Kit/8 Patches</td><td>2.29</td><td>Patch Kit/8 Patches</td></tr>",
                            "<tr><td>Road Tire Tube</td><td>3.99</td><td>Patch Kit/8 Patches</td></tr>",
                            "<tr><td>Touring Tire Tube</td><td>4.99</td><td>Patch Kit/8 Patches</td></tr>",
                            "<tr><td>Mountain Tire Tube</td><td>4.99</td><td>Patch Kit/8 Patches</td></tr>",
                            "<tr><td>LL Road Tire</td><td>21.49</td><td>Patch Kit/8 Patches</td></tr>",
                            "<tr><td>ML Road Tire</td><td>24.99</td><td>Patch Kit/8 Patches</td></tr>",
                            "<tr><td>LL Mountain Tire</td><td>24.99</td><td>Patch Kit/8 Patches</td></tr>",
                            "<tr><td>Touring Tire</td><td>28.99</td><td>Patch Kit/8 Patches</td></tr>",
                            "<tr><td>ML Mountain Tire</td><td>29.99</td><td>Patch Kit/8 Patches</td></tr>",
                            "<tr><td>HL Road Tire</td><td>32.60</td><td>Patch Kit/8 Patches</td></tr>",
                            "<tr><td>HL Mountain Tire</td><td>35.00</td><td>Patch Kit/8 Patches</td></tr>",
                            "</table>"
                        ]
                    }
                }
            ],
            "execution_count": 1
        },
        {
            "cell_type": "code",
            "source": [
                "SELECT JobTitle, LastName, VacationHours,\r\n",
                "       FIRST_VALUE(LastName) OVER (PARTITION BY JobTitle\r\n",
                "                                   ORDER BY VacationHours ASC\r\n",
                "                                   ROWS UNBOUNDED PRECEDING\r\n",
                "                                  ) AS FewestVacationHours\r\n",
                "FROM HumanResources.Employee AS e\r\n",
                "INNER JOIN Person.Person AS p\r\n",
                "    ON e.BusinessEntityID = p.BusinessEntityID\r\n",
                "ORDER BY JobTitle;"
            ],
            "metadata": {
                "language": "sql",
                "azdata_cell_guid": "54db7952-8bbc-496f-a10c-97ef095e7d7f"
            },
            "outputs": [
{
    "output_type": "display_data",
    "data": {
        "text/html": "(290 rows affected)"
    },
    "metadata": {}
}, {
    "output_type": "display_data",
    "data": {
        "text/html": "Total execution time: 00:00:00.028"
    },
    "metadata": {}
}, {
    "output_type": "execute_result",
    "metadata": {},
    "execution_count": 2,
    "data": {
        "application/vnd.dataresource+json": {
            "schema": {
                "fields": [
                    {
                        "name": "JobTitle"
                    },
                    {
                        "name": "LastName"
                    },
                    {
                        "name": "VacationHours"
                    },
                    {
                        "name": "FewestVacationHours"
                    }
                ]
            },
            "data": [
                {
                    "0": "Accountant",
                    "1": "Moreland",
                    "2": "58",
                    "3": "Moreland"
                },
                {
                    "0": "Accountant",
                    "1": "Seamans",
                    "2": "59",
                    "3": "Moreland"
                },
                {
                    "0": "Accounts Manager",
                    "1": "Liu",
                    "2": "57",
                    "3": "Liu"
                },
                {
                    "0": "Accounts Payable Specialist",
                    "1": "Tomic",
                    "2": "63",
                    "3": "Tomic"
                },
                {
                    "0": "Accounts Payable Specialist",
                    "1": "Sheperdigian",
                    "2": "64",
                    "3": "Tomic"
                },
                {
                    "0": "Accounts Receivable Specialist",
                    "1": "Poe",
                    "2": "60",
                    "3": "Poe"
                },
                {
                    "0": "Accounts Receivable Specialist",
                    "1": "Spoon",
                    "2": "61",
                    "3": "Poe"
                },
                {
                    "0": "Accounts Receivable Specialist",
                    "1": "Walton",
                    "2": "62",
                    "3": "Poe"
                },
                {
                    "0": "Application Specialist",
                    "1": "Bueno",
                    "2": "71",
                    "3": "Bueno"
                },
                {
                    "0": "Application Specialist",
                    "1": "Bacon",
                    "2": "72",
                    "3": "Bueno"
                },
                {
                    "0": "Application Specialist",
                    "1": "Meyyappan",
                    "2": "73",
                    "3": "Bueno"
                },
                {
                    "0": "Application Specialist",
                    "1": "Berg",
                    "2": "74",
                    "3": "Bueno"
                },
                {
                    "0": "Assistant to the Chief Financial Officer",
                    "1": "Barber",
                    "2": "56",
                    "3": "Barber"
                },
                {
                    "0": "Benefits Specialist",
                    "1": "Martin",
                    "2": "51",
                    "3": "Martin"
                },
                {
                    "0": "Buyer",
                    "1": "Hee",
                    "2": "52",
                    "3": "Hee"
                },
                {
                    "0": "Buyer",
                    "1": "Hagens",
                    "2": "53",
                    "3": "Hee"
                },
                {
                    "0": "Buyer",
                    "1": "Kurjan",
                    "2": "54",
                    "3": "Hee"
                },
                {
                    "0": "Buyer",
                    "1": "Miller",
                    "2": "55",
                    "3": "Hee"
                },
                {
                    "0": "Buyer",
                    "1": "Meisner",
                    "2": "56",
                    "3": "Hee"
                },
                {
                    "0": "Buyer",
                    "1": "Ogisu",
                    "2": "57",
                    "3": "Hee"
                },
                {
                    "0": "Buyer",
                    "1": "Pellow",
                    "2": "58",
                    "3": "Hee"
                },
                {
                    "0": "Buyer",
                    "1": "Sandberg",
                    "2": "59",
                    "3": "Hee"
                },
                {
                    "0": "Buyer",
                    "1": "Rao",
                    "2": "60",
                    "3": "Hee"
                },
                {
                    "0": "Chief Executive Officer",
                    "1": "Sánchez",
                    "2": "99",
                    "3": "Sánchez"
                },
                {
                    "0": "Chief Financial Officer",
                    "1": "Norman",
                    "2": "0",
                    "3": "Norman"
                },
                {
                    "0": "Control Specialist",
                    "1": "Norred",
                    "2": "75",
                    "3": "Norred"
                },
                {
                    "0": "Control Specialist",
                    "1": "Kharatishvili",
                    "2": "76",
                    "3": "Norred"
                },
                {
                    "0": "Database Administrator",
                    "1": "Wilson",
                    "2": "66",
                    "3": "Wilson"
                },
                {
                    "0": "Database Administrator",
                    "1": "Ajenstat",
                    "2": "67",
                    "3": "Wilson"
                },
                {
                    "0": "Design Engineer",
                    "1": "Salavaria",
                    "2": "4",
                    "3": "Salavaria"
                },
                {
                    "0": "Design Engineer",
                    "1": "Erickson",
                    "2": "5",
                    "3": "Salavaria"
                },
                {
                    "0": "Design Engineer",
                    "1": "Goldberg",
                    "2": "6",
                    "3": "Salavaria"
                },
                {
                    "0": "Document Control Assistant",
                    "1": "Chai",
                    "2": "78",
                    "3": "Chai"
                },
                {
                    "0": "Document Control Assistant",
                    "1": "Berge",
                    "2": "79",
                    "3": "Chai"
                },
                {
                    "0": "Document Control Manager",
                    "1": "Arifin",
                    "2": "77",
                    "3": "Arifin"
                },
                {
                    "0": "Engineering Manager",
                    "1": "Tamburello",
                    "2": "2",
                    "3": "Tamburello"
                },
                {
                    "0": "European Sales Manager",
                    "1": "Alberts",
                    "2": "21",
                    "3": "Alberts"
                },
                {
                    "0": "Facilities Administrative Assistant",
                    "1": "Hedlund",
                    "2": "87",
                    "3": "Hedlund"
                },
                {
                    "0": "Facilities Manager",
                    "1": "Altman",
                    "2": "86",
                    "3": "Altman"
                },
                {
                    "0": "Finance Manager",
                    "1": "Kahn",
                    "2": "55",
                    "3": "Kahn"
                },
                {
                    "0": "Human Resources Administrative Assistant",
                    "1": "Chen",
                    "2": "52",
                    "3": "Chen"
                },
                {
                    "0": "Human Resources Administrative Assistant",
                    "1": "Culbertson",
                    "2": "53",
                    "3": "Chen"
                },
                {
                    "0": "Human Resources Manager",
                    "1": "Barreto de Mattos",
                    "2": "54",
                    "3": "Barreto de Mattos"
                },
                {
                    "0": "Information Services Manager",
                    "1": "Trenary",
                    "2": "65",
                    "3": "Trenary"
                },
                {
                    "0": "Janitor",
                    "1": "Macrae",
                    "2": "88",
                    "3": "Macrae"
                },
                {
                    "0": "Janitor",
                    "1": "Coleman",
                    "2": "89",
                    "3": "Macrae"
                },
                {
                    "0": "Janitor",
                    "1": "Penor",
                    "2": "90",
                    "3": "Macrae"
                },
                {
                    "0": "Janitor",
                    "1": "Berry",
                    "2": "91",
                    "3": "Macrae"
                },
                {
                    "0": "Maintenance Supervisor",
                    "1": "Kleinerman",
                    "2": "92",
                    "3": "Kleinerman"
                },
                {
                    "0": "Marketing Assistant",
                    "1": "Benshoof",
                    "2": "41",
                    "3": "Benshoof"
                },
                {
                    "0": "Marketing Assistant",
                    "1": "Brown",
                    "2": "42",
                    "3": "Benshoof"
                },
                {
                    "0": "Marketing Assistant",
                    "1": "Dempsey",
                    "2": "43",
                    "3": "Benshoof"
                },
                {
                    "0": "Marketing Manager",
                    "1": "Bradley",
                    "2": "40",
                    "3": "Bradley"
                },
                {
                    "0": "Marketing Specialist",
                    "1": "Eminhizer",
                    "2": "44",
                    "3": "Eminhizer"
                },
                {
                    "0": "Marketing Specialist",
                    "1": "Harnpadoungsataya",
                    "2": "45",
                    "3": "Eminhizer"
                },
                {
                    "0": "Marketing Specialist",
                    "1": "Gibson",
                    "2": "46",
                    "3": "Eminhizer"
                },
                {
                    "0": "Marketing Specialist",
                    "1": "Williams",
                    "2": "47",
                    "3": "Eminhizer"
                },
                {
                    "0": "Marketing Specialist",
                    "1": "Wood",
                    "2": "48",
                    "3": "Eminhizer"
                },
                {
                    "0": "Master Scheduler",
                    "1": "Wright",
                    "2": "44",
                    "3": "Wright"
                },
                {
                    "0": "Network Administrator",
                    "1": "Connelly",
                    "2": "69",
                    "3": "Connelly"
                },
                {
                    "0": "Network Administrator",
                    "1": "Sharma",
                    "2": "70",
                    "3": "Connelly"
                },
                {
                    "0": "Network Manager",
                    "1": "Conroy",
                    "2": "68",
                    "3": "Conroy"
                },
                {
                    "0": "North American Sales Manager",
                    "1": "Jiang",
                    "2": "14",
                    "3": "Jiang"
                },
                {
                    "0": "Pacific Sales Manager",
                    "1": "Abbas",
                    "2": "20",
                    "3": "Abbas"
                },
                {
                    "0": "Production Control Manager",
                    "1": "Krebs",
                    "2": "43",
                    "3": "Krebs"
                },
                {
                    "0": "Production Supervisor - WC10",
                    "1": "Hill",
                    "2": "65",
                    "3": "Hill"
                },
                {
                    "0": "Production Supervisor - WC10",
                    "1": "Mu",
                    "2": "66",
                    "3": "Hill"
                },
                {
                    "0": "Production Supervisor - WC10",
                    "1": "Petculescu",
                    "2": "67",
                    "3": "Hill"
                },
                {
                    "0": "Production Supervisor - WC20",
                    "1": "Gubbels",
                    "2": "40",
                    "3": "Gubbels"
                },
                {
                    "0": "Production Supervisor - WC20",
                    "1": "Li",
                    "2": "41",
                    "3": "Gubbels"
                },
                {
                    "0": "Production Supervisor - WC20",
                    "1": "McAskill-White",
                    "2": "42",
                    "3": "Gubbels"
                },
                {
                    "0": "Production Supervisor - WC30",
                    "1": "Richins",
                    "2": "68",
                    "3": "Richins"
                },
                {
                    "0": "Production Supervisor - WC30",
                    "1": "Randall",
                    "2": "69",
                    "3": "Richins"
                },
                {
                    "0": "Production Supervisor - WC30",
                    "1": "Ray",
                    "2": "70",
                    "3": "Richins"
                },
                {
                    "0": "Production Supervisor - WC40",
                    "1": "Diaz",
                    "2": "71",
                    "3": "Diaz"
                },
                {
                    "0": "Production Supervisor - WC40",
                    "1": "D'sa",
                    "2": "72",
                    "3": "Diaz"
                },
                {
                    "0": "Production Supervisor - WC40",
                    "1": "Hamilton",
                    "2": "73",
                    "3": "Diaz"
                },
                {
                    "0": "Production Supervisor - WC45",
                    "1": "Hay",
                    "2": "74",
                    "3": "Hay"
                },
                {
                    "0": "Production Supervisor - WC45",
                    "1": "Kim",
                    "2": "75",
                    "3": "Hay"
                },
                {
                    "0": "Production Supervisor - WC45",
                    "1": "Kane",
                    "2": "76",
                    "3": "Hay"
                },
                {
                    "0": "Production Supervisor - WC50",
                    "1": "Liu",
                    "2": "77",
                    "3": "Liu"
                },
                {
                    "0": "Production Supervisor - WC50",
                    "1": "Loh",
                    "2": "78",
                    "3": "Liu"
                },
                {
                    "0": "Production Supervisor - WC50",
                    "1": "Maxwell",
                    "2": "79",
                    "3": "Liu"
                },
                {
                    "0": "Production Supervisor - WC60",
                    "1": "Brown",
                    "2": "80",
                    "3": "Brown"
                },
                {
                    "0": "Production Supervisor - WC60",
                    "1": "Campbell",
                    "2": "81",
                    "3": "Brown"
                },
                {
                    "0": "Production Supervisor - WC60",
                    "1": "Dobney",
                    "2": "82",
                    "3": "Brown"
                },
                {
                    "0": "Production Technician - WC10",
                    "1": "Ellerbrock",
                    "2": "83",
                    "3": "Ellerbrock"
                },
                {
                    "0": "Production Technician - WC10",
                    "1": "Higa",
                    "2": "84",
                    "3": "Ellerbrock"
                },
                {
                    "0": "Production Technician - WC10",
                    "1": "Ford",
                    "2": "85",
                    "3": "Ellerbrock"
                },
                {
                    "0": "Production Technician - WC10",
                    "1": "Hartwig",
                    "2": "86",
                    "3": "Ellerbrock"
                },
                {
                    "0": "Production Technician - WC10",
                    "1": "Glimp",
                    "2": "87",
                    "3": "Ellerbrock"
                },
                {
                    "0": "Production Technician - WC10",
                    "1": "Johnson",
                    "2": "88",
                    "3": "Ellerbrock"
                },
                {
                    "0": "Production Technician - WC10",
                    "1": "Kearney",
                    "2": "89",
                    "3": "Ellerbrock"
                },
                {
                    "0": "Production Technician - WC10",
                    "1": "Homer",
                    "2": "90",
                    "3": "Ellerbrock"
                },
                {
                    "0": "Production Technician - WC10",
                    "1": "Hill",
                    "2": "91",
                    "3": "Ellerbrock"
                },
                {
                    "0": "Production Technician - WC10",
                    "1": "Kane",
                    "2": "92",
                    "3": "Ellerbrock"
                },
                {
                    "0": "Production Technician - WC10",
                    "1": "Ersan",
                    "2": "93",
                    "3": "Ellerbrock"
                },
                {
                    "0": "Production Technician - WC10",
                    "1": "Baker",
                    "2": "94",
                    "3": "Ellerbrock"
                },
                {
                    "0": "Production Technician - WC10",
                    "1": "Zimmerman",
                    "2": "95",
                    "3": "Ellerbrock"
                },
                {
                    "0": "Production Technician - WC10",
                    "1": "Wedge",
                    "2": "96",
                    "3": "Ellerbrock"
                },
                {
                    "0": "Production Technician - WC10",
                    "1": "Tiedt",
                    "2": "97",
                    "3": "Ellerbrock"
                },
                {
                    "0": "Production Technician - WC10",
                    "1": "Vande Velde",
                    "2": "98",
                    "3": "Ellerbrock"
                },
                {
                    "0": "Production Technician - WC10",
                    "1": "Stadick",
                    "2": "99",
                    "3": "Ellerbrock"
                },
                {
                    "0": "Production Technician - WC20",
                    "1": "Ting",
                    "2": "0",
                    "3": "Ting"
                },
                {
                    "0": "Production Technician - WC20",
                    "1": "Su",
                    "2": "1",
                    "3": "Ting"
                },
                {
                    "0": "Production Technician - WC20",
                    "1": "Sunkammurali",
                    "2": "2",
                    "3": "Ting"
                },
                {
                    "0": "Production Technician - WC20",
                    "1": "Turner",
                    "2": "3",
                    "3": "Ting"
                },
                {
                    "0": "Production Technician - WC20",
                    "1": "Valdez",
                    "2": "4",
                    "3": "Ting"
                },
                {
                    "0": "Production Technician - WC20",
                    "1": "Samarawickrama",
                    "2": "5",
                    "3": "Ting"
                },
                {
                    "0": "Production Technician - WC20",
                    "1": "Singh",
                    "2": "6",
                    "3": "Ting"
                },
                {
                    "0": "Production Technician - WC20",
                    "1": "Smith",
                    "2": "7",
                    "3": "Ting"
                },
                {
                    "0": "Production Technician - WC20",
                    "1": "Sousa",
                    "2": "8",
                    "3": "Ting"
                },
                {
                    "0": "Production Technician - WC20",
                    "1": "Salmre",
                    "2": "9",
                    "3": "Ting"
                },
                {
                    "0": "Production Technician - WC20",
                    "1": "Sam",
                    "2": "10",
                    "3": "Ting"
                },
                {
                    "0": "Production Technician - WC20",
                    "1": "Sacksteder",
                    "2": "11",
                    "3": "Ting"
                },
                {
                    "0": "Production Technician - WC20",
                    "1": "Randall",
                    "2": "12",
                    "3": "Ting"
                },
                {
                    "0": "Production Technician - WC20",
                    "1": "Earls",
                    "2": "13",
                    "3": "Ting"
                },
                {
                    "0": "Production Technician - WC20",
                    "1": "Dyck",
                    "2": "14",
                    "3": "Ting"
                },
                {
                    "0": "Production Technician - WC20",
                    "1": "Feng",
                    "2": "15",
                    "3": "Ting"
                },
                {
                    "0": "Production Technician - WC20",
                    "1": "Fakhouri",
                    "2": "16",
                    "3": "Ting"
                },
                {
                    "0": "Production Technician - WC20",
                    "1": "Decker",
                    "2": "17",
                    "3": "Ting"
                },
                {
                    "0": "Production Technician - WC20",
                    "1": "Chen",
                    "2": "18",
                    "3": "Ting"
                },
                {
                    "0": "Production Technician - WC20",
                    "1": "Hesse",
                    "2": "19",
                    "3": "Ting"
                },
                {
                    "0": "Production Technician - WC20",
                    "1": "Hines",
                    "2": "20",
                    "3": "Ting"
                },
                {
                    "0": "Production Technician - WC20",
                    "1": "Mirchandani",
                    "2": "21",
                    "3": "Ting"
                },
                {
                    "0": "Production Technician - WC30",
                    "1": "Ingle",
                    "2": "22",
                    "3": "Ingle"
                },
                {
                    "0": "Production Technician - WC30",
                    "1": "Koch",
                    "2": "23",
                    "3": "Ingle"
                },
                {
                    "0": "Production Technician - WC30",
                    "1": "King",
                    "2": "24",
                    "3": "Ingle"
                },
                {
                    "0": "Production Technician - WC30",
                    "1": "Johnson",
                    "2": "25",
                    "3": "Ingle"
                },
                {
                    "0": "Production Technician - WC30",
                    "1": "Li",
                    "2": "26",
                    "3": "Ingle"
                },
                {
                    "0": "Production Technician - WC30",
                    "1": "Frum",
                    "2": "27",
                    "3": "Ingle"
                },
                {
                    "0": "Production Technician - WC30",
                    "1": "Martin",
                    "2": "28",
                    "3": "Ingle"
                },
                {
                    "0": "Production Technician - WC30",
                    "1": "Lawrence",
                    "2": "29",
                    "3": "Ingle"
                },
                {
                    "0": "Production Technician - WC30",
                    "1": "Miksovsky",
                    "2": "30",
                    "3": "Ingle"
                },
                {
                    "0": "Production Technician - WC30",
                    "1": "Metters",
                    "2": "31",
                    "3": "Ingle"
                },
                {
                    "0": "Production Technician - WC30",
                    "1": "Yalovsky",
                    "2": "32",
                    "3": "Ingle"
                },
                {
                    "0": "Production Technician - WC30",
                    "1": "Zabokritski",
                    "2": "33",
                    "3": "Ingle"
                },
                {
                    "0": "Production Technician - WC30",
                    "1": "Young",
                    "2": "34",
                    "3": "Ingle"
                },
                {
                    "0": "Production Technician - WC30",
                    "1": "Vanderhyde",
                    "2": "35",
                    "3": "Ingle"
                },
                {
                    "0": "Production Technician - WC30",
                    "1": "Wang",
                    "2": "36",
                    "3": "Ingle"
                },
                {
                    "0": "Production Technician - WC30",
                    "1": "Reátegui Alayo",
                    "2": "37",
                    "3": "Ingle"
                },
                {
                    "0": "Production Technician - WC30",
                    "1": "Watters",
                    "2": "38",
                    "3": "Ingle"
                },
                {
                    "0": "Production Technician - WC30",
                    "1": "Ruth",
                    "2": "39",
                    "3": "Ingle"
                },
                {
                    "0": "Production Technician - WC30",
                    "1": "Shabalin",
                    "2": "40",
                    "3": "Ingle"
                },
                {
                    "0": "Production Technician - WC30",
                    "1": "Selikoff",
                    "2": "41",
                    "3": "Ingle"
                },
                {
                    "0": "Production Technician - WC30",
                    "1": "Poland",
                    "2": "42",
                    "3": "Ingle"
                },
                {
                    "0": "Production Technician - WC30",
                    "1": "Rettig",
                    "2": "43",
                    "3": "Ingle"
                },
                {
                    "0": "Production Technician - WC30",
                    "1": "Osada",
                    "2": "44",
                    "3": "Ingle"
                },
                {
                    "0": "Production Technician - WC30",
                    "1": "Philips",
                    "2": "45",
                    "3": "Ingle"
                },
                {
                    "0": "Production Technician - WC30",
                    "1": "Netz",
                    "2": "46",
                    "3": "Ingle"
                },
                {
                    "0": "Production Technician - WC40",
                    "1": "Northup",
                    "2": "47",
                    "3": "Northup"
                },
                {
                    "0": "Production Technician - WC40",
                    "1": "Patel",
                    "2": "48",
                    "3": "Northup"
                },
                {
                    "0": "Production Technician - WC40",
                    "1": "Nay",
                    "2": "49",
                    "3": "Northup"
                },
                {
                    "0": "Production Technician - WC40",
                    "1": "Nusbaum",
                    "2": "50",
                    "3": "Northup"
                },
                {
                    "0": "Production Technician - WC40",
                    "1": "Myer",
                    "2": "51",
                    "3": "Northup"
                },
                {
                    "0": "Production Technician - WC40",
                    "1": "McGuel",
                    "2": "52",
                    "3": "Northup"
                },
                {
                    "0": "Production Technician - WC40",
                    "1": "Mohamed",
                    "2": "53",
                    "3": "Northup"
                },
                {
                    "0": "Production Technician - WC40",
                    "1": "Nartker",
                    "2": "54",
                    "3": "Northup"
                },
                {
                    "0": "Production Technician - WC40",
                    "1": "Lloyd",
                    "2": "55",
                    "3": "Northup"
                },
                {
                    "0": "Production Technician - WC40",
                    "1": "Lee",
                    "2": "56",
                    "3": "Northup"
                },
                {
                    "0": "Production Technician - WC40",
                    "1": "Mares",
                    "2": "57",
                    "3": "Northup"
                },
                {
                    "0": "Production Technician - WC40",
                    "1": "Liu",
                    "2": "58",
                    "3": "Northup"
                },
                {
                    "0": "Production Technician - WC40",
                    "1": "Cornelsen",
                    "2": "59",
                    "3": "Northup"
                },
                {
                    "0": "Production Technician - WC40",
                    "1": "Brown",
                    "2": "60",
                    "3": "Northup"
                },
                {
                    "0": "Production Technician - WC40",
                    "1": "Cook",
                    "2": "61",
                    "3": "Northup"
                },
                {
                    "0": "Production Technician - WC40",
                    "1": "Creasey",
                    "2": "62",
                    "3": "Northup"
                },
                {
                    "0": "Production Technician - WC40",
                    "1": "Goldstein",
                    "2": "63",
                    "3": "Northup"
                },
                {
                    "0": "Production Technician - WC40",
                    "1": "Frintu",
                    "2": "64",
                    "3": "Northup"
                },
                {
                    "0": "Production Technician - WC40",
                    "1": "Kaliyath",
                    "2": "65",
                    "3": "Northup"
                },
                {
                    "0": "Production Technician - WC40",
                    "1": "Martinez",
                    "2": "66",
                    "3": "Northup"
                },
                {
                    "0": "Production Technician - WC40",
                    "1": "Holliday",
                    "2": "67",
                    "3": "Northup"
                },
                {
                    "0": "Production Technician - WC40",
                    "1": "Komosinski",
                    "2": "68",
                    "3": "Northup"
                },
                {
                    "0": "Production Technician - WC40",
                    "1": "Yukish",
                    "2": "69",
                    "3": "Northup"
                },
                {
                    "0": "Production Technician - WC40",
                    "1": "Rothkugel",
                    "2": "70",
                    "3": "Northup"
                },
                {
                    "0": "Production Technician - WC40",
                    "1": "Caron",
                    "2": "71",
                    "3": "Northup"
                },
                {
                    "0": "Production Technician - WC40",
                    "1": "Cetinok",
                    "2": "72",
                    "3": "Northup"
                },
                {
                    "0": "Production Technician - WC45",
                    "1": "Cencini",
                    "2": "73",
                    "3": "Cencini"
                },
                {
                    "0": "Production Technician - WC45",
                    "1": "Koenigsbauer",
                    "2": "74",
                    "3": "Cencini"
                },
                {
                    "0": "Production Technician - WC45",
                    "1": "Steele",
                    "2": "75",
                    "3": "Cencini"
                },
                {
                    "0": "Production Technician - WC45",
                    "1": "Preston",
                    "2": "76",
                    "3": "Cencini"
                },
                {
                    "0": "Production Technician - WC45",
                    "1": "Nayberg",
                    "2": "77",
                    "3": "Cencini"
                },
                {
                    "0": "Production Technician - WC45",
                    "1": "Penuchot",
                    "2": "78",
                    "3": "Cencini"
                },
                {
                    "0": "Production Technician - WC45",
                    "1": "McKay",
                    "2": "79",
                    "3": "Cencini"
                },
                {
                    "0": "Production Technician - WC45",
                    "1": "Hite",
                    "2": "80",
                    "3": "Cencini"
                },
                {
                    "0": "Production Technician - WC45",
                    "1": "Esteves",
                    "2": "81",
                    "3": "Cencini"
                },
                {
                    "0": "Production Technician - WC45",
                    "1": "Rounthwaite",
                    "2": "82",
                    "3": "Cencini"
                },
                {
                    "0": "Production Technician - WC45",
                    "1": "Newman",
                    "2": "83",
                    "3": "Cencini"
                },
                {
                    "0": "Production Technician - WC45",
                    "1": "Munson",
                    "2": "84",
                    "3": "Cencini"
                },
                {
                    "0": "Production Technician - WC45",
                    "1": "Alderson",
                    "2": "85",
                    "3": "Cencini"
                },
                {
                    "0": "Production Technician - WC45",
                    "1": "Gode",
                    "2": "86",
                    "3": "Cencini"
                },
                {
                    "0": "Production Technician - WC45",
                    "1": "Flood",
                    "2": "87",
                    "3": "Cencini"
                },
                {
                    "0": "Production Technician - WC50",
                    "1": "Samant",
                    "2": "0",
                    "3": "Samant"
                },
                {
                    "0": "Production Technician - WC50",
                    "1": "Scardelis",
                    "2": "1",
                    "3": "Samant"
                },
                {
                    "0": "Production Technician - WC50",
                    "1": "Yu",
                    "2": "2",
                    "3": "Samant"
                },
                {
                    "0": "Production Technician - WC50",
                    "1": "Pournasseh",
                    "2": "3",
                    "3": "Samant"
                },
                {
                    "0": "Production Technician - WC50",
                    "1": "Tejani",
                    "2": "4",
                    "3": "Samant"
                },
                {
                    "0": "Production Technician - WC50",
                    "1": "Keyser",
                    "2": "5",
                    "3": "Samant"
                },
                {
                    "0": "Production Technician - WC50",
                    "1": "Hunter",
                    "2": "6",
                    "3": "Samant"
                },
                {
                    "0": "Production Technician - WC50",
                    "1": "Song",
                    "2": "7",
                    "3": "Samant"
                },
                {
                    "0": "Production Technician - WC50",
                    "1": "Tibbott",
                    "2": "8",
                    "3": "Samant"
                },
                {
                    "0": "Production Technician - WC50",
                    "1": "Smith",
                    "2": "9",
                    "3": "Samant"
                },
                {
                    "0": "Production Technician - WC50",
                    "1": "Miller",
                    "2": "10",
                    "3": "Samant"
                },
                {
                    "0": "Production Technician - WC50",
                    "1": "Keil",
                    "2": "11",
                    "3": "Samant"
                },
                {
                    "0": "Production Technician - WC50",
                    "1": "Hohman",
                    "2": "12",
                    "3": "Samant"
                },
                {
                    "0": "Production Technician - WC50",
                    "1": "Male",
                    "2": "13",
                    "3": "Samant"
                },
                {
                    "0": "Production Technician - WC50",
                    "1": "Hall",
                    "2": "88",
                    "3": "Samant"
                },
                {
                    "0": "Production Technician - WC50",
                    "1": "Lertpiriyasuwat",
                    "2": "89",
                    "3": "Samant"
                },
                {
                    "0": "Production Technician - WC50",
                    "1": "Cao",
                    "2": "90",
                    "3": "Samant"
                },
                {
                    "0": "Production Technician - WC50",
                    "1": "Evans",
                    "2": "91",
                    "3": "Samant"
                },
                {
                    "0": "Production Technician - WC50",
                    "1": "Barbariol",
                    "2": "92",
                    "3": "Samant"
                },
                {
                    "0": "Production Technician - WC50",
                    "1": "Fatima",
                    "2": "93",
                    "3": "Samant"
                },
                {
                    "0": "Production Technician - WC50",
                    "1": "Entin",
                    "2": "94",
                    "3": "Samant"
                },
                {
                    "0": "Production Technician - WC50",
                    "1": "Ciccu",
                    "2": "95",
                    "3": "Samant"
                },
                {
                    "0": "Production Technician - WC50",
                    "1": "Moschell",
                    "2": "96",
                    "3": "Samant"
                },
                {
                    "0": "Production Technician - WC50",
                    "1": "Krapauskas",
                    "2": "97",
                    "3": "Samant"
                },
                {
                    "0": "Production Technician - WC50",
                    "1": "Patten",
                    "2": "98",
                    "3": "Samant"
                },
                {
                    "0": "Production Technician - WC50",
                    "1": "Niswonger",
                    "2": "99",
                    "3": "Samant"
                },
                {
                    "0": "Production Technician - WC60",
                    "1": "Simon",
                    "2": "14",
                    "3": "Simon"
                },
                {
                    "0": "Production Technician - WC60",
                    "1": "Mohan",
                    "2": "15",
                    "3": "Simon"
                },
                {
                    "0": "Production Technician - WC60",
                    "1": "Okelberry",
                    "2": "16",
                    "3": "Simon"
                },
                {
                    "0": "Production Technician - WC60",
                    "1": "Stahl",
                    "2": "17",
                    "3": "Simon"
                },
                {
                    "0": "Production Technician - WC60",
                    "1": "Shoop",
                    "2": "18",
                    "3": "Simon"
                },
                {
                    "0": "Production Technician - WC60",
                    "1": "McArthur",
                    "2": "19",
                    "3": "Simon"
                },
                {
                    "0": "Production Technician - WC60",
                    "1": "Lugo",
                    "2": "20",
                    "3": "Simon"
                },
                {
                    "0": "Production Technician - WC60",
                    "1": "Gilbert",
                    "2": "21",
                    "3": "Simon"
                },
                {
                    "0": "Production Technician - WC60",
                    "1": "Heidepriem",
                    "2": "22",
                    "3": "Simon"
                },
                {
                    "0": "Production Technician - WC60",
                    "1": "Laszlo",
                    "2": "23",
                    "3": "Simon"
                },
                {
                    "0": "Production Technician - WC60",
                    "1": "Abercrombie",
                    "2": "24",
                    "3": "Simon"
                },
                {
                    "0": "Production Technician - WC60",
                    "1": "Dudenhoefer",
                    "2": "25",
                    "3": "Simon"
                },
                {
                    "0": "Production Technician - WC60",
                    "1": "Zwilling",
                    "2": "26",
                    "3": "Simon"
                },
                {
                    "0": "Production Technician - WC60",
                    "1": "Fitzgerald",
                    "2": "27",
                    "3": "Simon"
                },
                {
                    "0": "Production Technician - WC60",
                    "1": "Khanna",
                    "2": "28",
                    "3": "Simon"
                },
                {
                    "0": "Production Technician - WC60",
                    "1": "Reeves",
                    "2": "29",
                    "3": "Simon"
                },
                {
                    "0": "Production Technician - WC60",
                    "1": "Dusza",
                    "2": "30",
                    "3": "Simon"
                },
                {
                    "0": "Production Technician - WC60",
                    "1": "Masters",
                    "2": "31",
                    "3": "Simon"
                },
                {
                    "0": "Production Technician - WC60",
                    "1": "Adams",
                    "2": "32",
                    "3": "Simon"
                },
                {
                    "0": "Production Technician - WC60",
                    "1": "Ortiz",
                    "2": "33",
                    "3": "Simon"
                },
                {
                    "0": "Production Technician - WC60",
                    "1": "Anderson",
                    "2": "34",
                    "3": "Simon"
                },
                {
                    "0": "Production Technician - WC60",
                    "1": "Baker",
                    "2": "35",
                    "3": "Simon"
                },
                {
                    "0": "Production Technician - WC60",
                    "1": "Kogan",
                    "2": "36",
                    "3": "Simon"
                },
                {
                    "0": "Production Technician - WC60",
                    "1": "Michaels",
                    "2": "37",
                    "3": "Simon"
                },
                {
                    "0": "Production Technician - WC60",
                    "1": "Rapier",
                    "2": "38",
                    "3": "Simon"
                },
                {
                    "0": "Production Technician - WC60",
                    "1": "Kramer",
                    "2": "39",
                    "3": "Simon"
                },
                {
                    "0": "Purchasing Assistant",
                    "1": "Hill",
                    "2": "50",
                    "3": "Hill"
                },
                {
                    "0": "Purchasing Assistant",
                    "1": "Hillmann",
                    "2": "51",
                    "3": "Hill"
                },
                {
                    "0": "Purchasing Manager",
                    "1": "Word",
                    "2": "49",
                    "3": "Word"
                },
                {
                    "0": "Quality Assurance Manager",
                    "1": "Abolrous",
                    "2": "80",
                    "3": "Abolrous"
                },
                {
                    "0": "Quality Assurance Supervisor",
                    "1": "Wu",
                    "2": "81",
                    "3": "Wu"
                },
                {
                    "0": "Quality Assurance Technician",
                    "1": "Alexander",
                    "2": "82",
                    "3": "Alexander"
                },
                {
                    "0": "Quality Assurance Technician",
                    "1": "Harrington",
                    "2": "83",
                    "3": "Alexander"
                },
                {
                    "0": "Quality Assurance Technician",
                    "1": "Berglund",
                    "2": "84",
                    "3": "Alexander"
                },
                {
                    "0": "Quality Assurance Technician",
                    "1": "Charncherngkha",
                    "2": "85",
                    "3": "Alexander"
                },
                {
                    "0": "Recruiter",
                    "1": "Johnson",
                    "2": "49",
                    "3": "Johnson"
                },
                {
                    "0": "Recruiter",
                    "1": "Luthra",
                    "2": "50",
                    "3": "Johnson"
                },
                {
                    "0": "Research and Development Engineer",
                    "1": "Margheim",
                    "2": "62",
                    "3": "Margheim"
                },
                {
                    "0": "Research and Development Engineer",
                    "1": "Matthew",
                    "2": "63",
                    "3": "Margheim"
                },
                {
                    "0": "Research and Development Manager",
                    "1": "Raheem",
                    "2": "16",
                    "3": "Raheem"
                },
                {
                    "0": "Research and Development Manager",
                    "1": "Miller",
                    "2": "61",
                    "3": "Raheem"
                },
                {
                    "0": "Sales Representative",
                    "1": "Ansman-Wolfe",
                    "2": "22",
                    "3": "Ansman-Wolfe"
                },
                {
                    "0": "Sales Representative",
                    "1": "Campbell",
                    "2": "23",
                    "3": "Ansman-Wolfe"
                },
                {
                    "0": "Sales Representative",
                    "1": "Carson",
                    "2": "24",
                    "3": "Ansman-Wolfe"
                },
                {
                    "0": "Sales Representative",
                    "1": "Ito",
                    "2": "26",
                    "3": "Ansman-Wolfe"
                },
                {
                    "0": "Sales Representative",
                    "1": "Mitchell",
                    "2": "27",
                    "3": "Ansman-Wolfe"
                },
                {
                    "0": "Sales Representative",
                    "1": "Reiter",
                    "2": "29",
                    "3": "Ansman-Wolfe"
                },
                {
                    "0": "Sales Representative",
                    "1": "Saraiva",
                    "2": "31",
                    "3": "Ansman-Wolfe"
                },
                {
                    "0": "Sales Representative",
                    "1": "Vargas",
                    "2": "33",
                    "3": "Ansman-Wolfe"
                },
                {
                    "0": "Sales Representative",
                    "1": "Varkey Chudukatil",
                    "2": "34",
                    "3": "Ansman-Wolfe"
                },
                {
                    "0": "Sales Representative",
                    "1": "Valdez",
                    "2": "35",
                    "3": "Ansman-Wolfe"
                },
                {
                    "0": "Sales Representative",
                    "1": "Tsoflias",
                    "2": "36",
                    "3": "Ansman-Wolfe"
                },
                {
                    "0": "Sales Representative",
                    "1": "Pak",
                    "2": "37",
                    "3": "Ansman-Wolfe"
                },
                {
                    "0": "Sales Representative",
                    "1": "Blythe",
                    "2": "38",
                    "3": "Ansman-Wolfe"
                },
                {
                    "0": "Sales Representative",
                    "1": "Mensa-Annan",
                    "2": "39",
                    "3": "Ansman-Wolfe"
                },
                {
                    "0": "Scheduling Assistant",
                    "1": "Vong",
                    "2": "45",
                    "3": "Vong"
                },
                {
                    "0": "Scheduling Assistant",
                    "1": "Uddin",
                    "2": "46",
                    "3": "Vong"
                },
                {
                    "0": "Scheduling Assistant",
                    "1": "Brewer",
                    "2": "47",
                    "3": "Vong"
                },
                {
                    "0": "Scheduling Assistant",
                    "1": "LaMee",
                    "2": "48",
                    "3": "Vong"
                },
                {
                    "0": "Senior Design Engineer",
                    "1": "Sullivan",
                    "2": "3",
                    "3": "Sullivan"
                },
                {
                    "0": "Senior Tool Designer",
                    "1": "Cracium",
                    "2": "7",
                    "3": "Cracium"
                },
                {
                    "0": "Senior Tool Designer",
                    "1": "Walters",
                    "2": "48",
                    "3": "Cracium"
                },
                {
                    "0": "Shipping and Receiving Clerk",
                    "1": "Berndt",
                    "2": "94",
                    "3": "Berndt"
                },
                {
                    "0": "Shipping and Receiving Clerk",
                    "1": "Kuppa",
                    "2": "95",
                    "3": "Berndt"
                },
                {
                    "0": "Shipping and Receiving Supervisor",
                    "1": "Ackerman",
                    "2": "93",
                    "3": "Ackerman"
                },
                {
                    "0": "Stocker",
                    "1": "Bischoff",
                    "2": "96",
                    "3": "Bischoff"
                },
                {
                    "0": "Stocker",
                    "1": "Eaton",
                    "2": "97",
                    "3": "Bischoff"
                },
                {
                    "0": "Stocker",
                    "1": "Ralls",
                    "2": "98",
                    "3": "Bischoff"
                },
                {
                    "0": "Tool Designer",
                    "1": "Galvin",
                    "2": "8",
                    "3": "Galvin"
                },
                {
                    "0": "Tool Designer",
                    "1": "D'Hers",
                    "2": "9",
                    "3": "Galvin"
                },
                {
                    "0": "Vice President of Engineering",
                    "1": "Duffy",
                    "2": "1",
                    "3": "Duffy"
                },
                {
                    "0": "Vice President of Production",
                    "1": "Hamilton",
                    "2": "64",
                    "3": "Hamilton"
                },
                {
                    "0": "Vice President of Sales",
                    "1": "Welcker",
                    "2": "10",
                    "3": "Welcker"
                }
            ]
        },
        "text/html": [
            "<table>",
            "<tr><th>JobTitle</th><th>LastName</th><th>VacationHours</th><th>FewestVacationHours</th></tr>",
            "<tr><td>Accountant</td><td>Moreland</td><td>58</td><td>Moreland</td></tr>",
            "<tr><td>Accountant</td><td>Seamans</td><td>59</td><td>Moreland</td></tr>",
            "<tr><td>Accounts Manager</td><td>Liu</td><td>57</td><td>Liu</td></tr>",
            "<tr><td>Accounts Payable Specialist</td><td>Tomic</td><td>63</td><td>Tomic</td></tr>",
            "<tr><td>Accounts Payable Specialist</td><td>Sheperdigian</td><td>64</td><td>Tomic</td></tr>",
            "<tr><td>Accounts Receivable Specialist</td><td>Poe</td><td>60</td><td>Poe</td></tr>",
            "<tr><td>Accounts Receivable Specialist</td><td>Spoon</td><td>61</td><td>Poe</td></tr>",
            "<tr><td>Accounts Receivable Specialist</td><td>Walton</td><td>62</td><td>Poe</td></tr>",
            "<tr><td>Application Specialist</td><td>Bueno</td><td>71</td><td>Bueno</td></tr>",
            "<tr><td>Application Specialist</td><td>Bacon</td><td>72</td><td>Bueno</td></tr>",
            "<tr><td>Application Specialist</td><td>Meyyappan</td><td>73</td><td>Bueno</td></tr>",
            "<tr><td>Application Specialist</td><td>Berg</td><td>74</td><td>Bueno</td></tr>",
            "<tr><td>Assistant to the Chief Financial Officer</td><td>Barber</td><td>56</td><td>Barber</td></tr>",
            "<tr><td>Benefits Specialist</td><td>Martin</td><td>51</td><td>Martin</td></tr>",
            "<tr><td>Buyer</td><td>Hee</td><td>52</td><td>Hee</td></tr>",
            "<tr><td>Buyer</td><td>Hagens</td><td>53</td><td>Hee</td></tr>",
            "<tr><td>Buyer</td><td>Kurjan</td><td>54</td><td>Hee</td></tr>",
            "<tr><td>Buyer</td><td>Miller</td><td>55</td><td>Hee</td></tr>",
            "<tr><td>Buyer</td><td>Meisner</td><td>56</td><td>Hee</td></tr>",
            "<tr><td>Buyer</td><td>Ogisu</td><td>57</td><td>Hee</td></tr>",
            "<tr><td>Buyer</td><td>Pellow</td><td>58</td><td>Hee</td></tr>",
            "<tr><td>Buyer</td><td>Sandberg</td><td>59</td><td>Hee</td></tr>",
            "<tr><td>Buyer</td><td>Rao</td><td>60</td><td>Hee</td></tr>",
            "<tr><td>Chief Executive Officer</td><td>Sánchez</td><td>99</td><td>Sánchez</td></tr>",
            "<tr><td>Chief Financial Officer</td><td>Norman</td><td>0</td><td>Norman</td></tr>",
            "<tr><td>Control Specialist</td><td>Norred</td><td>75</td><td>Norred</td></tr>",
            "<tr><td>Control Specialist</td><td>Kharatishvili</td><td>76</td><td>Norred</td></tr>",
            "<tr><td>Database Administrator</td><td>Wilson</td><td>66</td><td>Wilson</td></tr>",
            "<tr><td>Database Administrator</td><td>Ajenstat</td><td>67</td><td>Wilson</td></tr>",
            "<tr><td>Design Engineer</td><td>Salavaria</td><td>4</td><td>Salavaria</td></tr>",
            "<tr><td>Design Engineer</td><td>Erickson</td><td>5</td><td>Salavaria</td></tr>",
            "<tr><td>Design Engineer</td><td>Goldberg</td><td>6</td><td>Salavaria</td></tr>",
            "<tr><td>Document Control Assistant</td><td>Chai</td><td>78</td><td>Chai</td></tr>",
            "<tr><td>Document Control Assistant</td><td>Berge</td><td>79</td><td>Chai</td></tr>",
            "<tr><td>Document Control Manager</td><td>Arifin</td><td>77</td><td>Arifin</td></tr>",
            "<tr><td>Engineering Manager</td><td>Tamburello</td><td>2</td><td>Tamburello</td></tr>",
            "<tr><td>European Sales Manager</td><td>Alberts</td><td>21</td><td>Alberts</td></tr>",
            "<tr><td>Facilities Administrative Assistant</td><td>Hedlund</td><td>87</td><td>Hedlund</td></tr>",
            "<tr><td>Facilities Manager</td><td>Altman</td><td>86</td><td>Altman</td></tr>",
            "<tr><td>Finance Manager</td><td>Kahn</td><td>55</td><td>Kahn</td></tr>",
            "<tr><td>Human Resources Administrative Assistant</td><td>Chen</td><td>52</td><td>Chen</td></tr>",
            "<tr><td>Human Resources Administrative Assistant</td><td>Culbertson</td><td>53</td><td>Chen</td></tr>",
            "<tr><td>Human Resources Manager</td><td>Barreto de Mattos</td><td>54</td><td>Barreto de Mattos</td></tr>",
            "<tr><td>Information Services Manager</td><td>Trenary</td><td>65</td><td>Trenary</td></tr>",
            "<tr><td>Janitor</td><td>Macrae</td><td>88</td><td>Macrae</td></tr>",
            "<tr><td>Janitor</td><td>Coleman</td><td>89</td><td>Macrae</td></tr>",
            "<tr><td>Janitor</td><td>Penor</td><td>90</td><td>Macrae</td></tr>",
            "<tr><td>Janitor</td><td>Berry</td><td>91</td><td>Macrae</td></tr>",
            "<tr><td>Maintenance Supervisor</td><td>Kleinerman</td><td>92</td><td>Kleinerman</td></tr>",
            "<tr><td>Marketing Assistant</td><td>Benshoof</td><td>41</td><td>Benshoof</td></tr>",
            "<tr><td>Marketing Assistant</td><td>Brown</td><td>42</td><td>Benshoof</td></tr>",
            "<tr><td>Marketing Assistant</td><td>Dempsey</td><td>43</td><td>Benshoof</td></tr>",
            "<tr><td>Marketing Manager</td><td>Bradley</td><td>40</td><td>Bradley</td></tr>",
            "<tr><td>Marketing Specialist</td><td>Eminhizer</td><td>44</td><td>Eminhizer</td></tr>",
            "<tr><td>Marketing Specialist</td><td>Harnpadoungsataya</td><td>45</td><td>Eminhizer</td></tr>",
            "<tr><td>Marketing Specialist</td><td>Gibson</td><td>46</td><td>Eminhizer</td></tr>",
            "<tr><td>Marketing Specialist</td><td>Williams</td><td>47</td><td>Eminhizer</td></tr>",
            "<tr><td>Marketing Specialist</td><td>Wood</td><td>48</td><td>Eminhizer</td></tr>",
            "<tr><td>Master Scheduler</td><td>Wright</td><td>44</td><td>Wright</td></tr>",
            "<tr><td>Network Administrator</td><td>Connelly</td><td>69</td><td>Connelly</td></tr>",
            "<tr><td>Network Administrator</td><td>Sharma</td><td>70</td><td>Connelly</td></tr>",
            "<tr><td>Network Manager</td><td>Conroy</td><td>68</td><td>Conroy</td></tr>",
            "<tr><td>North American Sales Manager</td><td>Jiang</td><td>14</td><td>Jiang</td></tr>",
            "<tr><td>Pacific Sales Manager</td><td>Abbas</td><td>20</td><td>Abbas</td></tr>",
            "<tr><td>Production Control Manager</td><td>Krebs</td><td>43</td><td>Krebs</td></tr>",
            "<tr><td>Production Supervisor - WC10</td><td>Hill</td><td>65</td><td>Hill</td></tr>",
            "<tr><td>Production Supervisor - WC10</td><td>Mu</td><td>66</td><td>Hill</td></tr>",
            "<tr><td>Production Supervisor - WC10</td><td>Petculescu</td><td>67</td><td>Hill</td></tr>",
            "<tr><td>Production Supervisor - WC20</td><td>Gubbels</td><td>40</td><td>Gubbels</td></tr>",
            "<tr><td>Production Supervisor - WC20</td><td>Li</td><td>41</td><td>Gubbels</td></tr>",
            "<tr><td>Production Supervisor - WC20</td><td>McAskill-White</td><td>42</td><td>Gubbels</td></tr>",
            "<tr><td>Production Supervisor - WC30</td><td>Richins</td><td>68</td><td>Richins</td></tr>",
            "<tr><td>Production Supervisor - WC30</td><td>Randall</td><td>69</td><td>Richins</td></tr>",
            "<tr><td>Production Supervisor - WC30</td><td>Ray</td><td>70</td><td>Richins</td></tr>",
            "<tr><td>Production Supervisor - WC40</td><td>Diaz</td><td>71</td><td>Diaz</td></tr>",
            "<tr><td>Production Supervisor - WC40</td><td>D'sa</td><td>72</td><td>Diaz</td></tr>",
            "<tr><td>Production Supervisor - WC40</td><td>Hamilton</td><td>73</td><td>Diaz</td></tr>",
            "<tr><td>Production Supervisor - WC45</td><td>Hay</td><td>74</td><td>Hay</td></tr>",
            "<tr><td>Production Supervisor - WC45</td><td>Kim</td><td>75</td><td>Hay</td></tr>",
            "<tr><td>Production Supervisor - WC45</td><td>Kane</td><td>76</td><td>Hay</td></tr>",
            "<tr><td>Production Supervisor - WC50</td><td>Liu</td><td>77</td><td>Liu</td></tr>",
            "<tr><td>Production Supervisor - WC50</td><td>Loh</td><td>78</td><td>Liu</td></tr>",
            "<tr><td>Production Supervisor - WC50</td><td>Maxwell</td><td>79</td><td>Liu</td></tr>",
            "<tr><td>Production Supervisor - WC60</td><td>Brown</td><td>80</td><td>Brown</td></tr>",
            "<tr><td>Production Supervisor - WC60</td><td>Campbell</td><td>81</td><td>Brown</td></tr>",
            "<tr><td>Production Supervisor - WC60</td><td>Dobney</td><td>82</td><td>Brown</td></tr>",
            "<tr><td>Production Technician - WC10</td><td>Ellerbrock</td><td>83</td><td>Ellerbrock</td></tr>",
            "<tr><td>Production Technician - WC10</td><td>Higa</td><td>84</td><td>Ellerbrock</td></tr>",
            "<tr><td>Production Technician - WC10</td><td>Ford</td><td>85</td><td>Ellerbrock</td></tr>",
            "<tr><td>Production Technician - WC10</td><td>Hartwig</td><td>86</td><td>Ellerbrock</td></tr>",
            "<tr><td>Production Technician - WC10</td><td>Glimp</td><td>87</td><td>Ellerbrock</td></tr>",
            "<tr><td>Production Technician - WC10</td><td>Johnson</td><td>88</td><td>Ellerbrock</td></tr>",
            "<tr><td>Production Technician - WC10</td><td>Kearney</td><td>89</td><td>Ellerbrock</td></tr>",
            "<tr><td>Production Technician - WC10</td><td>Homer</td><td>90</td><td>Ellerbrock</td></tr>",
            "<tr><td>Production Technician - WC10</td><td>Hill</td><td>91</td><td>Ellerbrock</td></tr>",
            "<tr><td>Production Technician - WC10</td><td>Kane</td><td>92</td><td>Ellerbrock</td></tr>",
            "<tr><td>Production Technician - WC10</td><td>Ersan</td><td>93</td><td>Ellerbrock</td></tr>",
            "<tr><td>Production Technician - WC10</td><td>Baker</td><td>94</td><td>Ellerbrock</td></tr>",
            "<tr><td>Production Technician - WC10</td><td>Zimmerman</td><td>95</td><td>Ellerbrock</td></tr>",
            "<tr><td>Production Technician - WC10</td><td>Wedge</td><td>96</td><td>Ellerbrock</td></tr>",
            "<tr><td>Production Technician - WC10</td><td>Tiedt</td><td>97</td><td>Ellerbrock</td></tr>",
            "<tr><td>Production Technician - WC10</td><td>Vande Velde</td><td>98</td><td>Ellerbrock</td></tr>",
            "<tr><td>Production Technician - WC10</td><td>Stadick</td><td>99</td><td>Ellerbrock</td></tr>",
            "<tr><td>Production Technician - WC20</td><td>Ting</td><td>0</td><td>Ting</td></tr>",
            "<tr><td>Production Technician - WC20</td><td>Su</td><td>1</td><td>Ting</td></tr>",
            "<tr><td>Production Technician - WC20</td><td>Sunkammurali</td><td>2</td><td>Ting</td></tr>",
            "<tr><td>Production Technician - WC20</td><td>Turner</td><td>3</td><td>Ting</td></tr>",
            "<tr><td>Production Technician - WC20</td><td>Valdez</td><td>4</td><td>Ting</td></tr>",
            "<tr><td>Production Technician - WC20</td><td>Samarawickrama</td><td>5</td><td>Ting</td></tr>",
            "<tr><td>Production Technician - WC20</td><td>Singh</td><td>6</td><td>Ting</td></tr>",
            "<tr><td>Production Technician - WC20</td><td>Smith</td><td>7</td><td>Ting</td></tr>",
            "<tr><td>Production Technician - WC20</td><td>Sousa</td><td>8</td><td>Ting</td></tr>",
            "<tr><td>Production Technician - WC20</td><td>Salmre</td><td>9</td><td>Ting</td></tr>",
            "<tr><td>Production Technician - WC20</td><td>Sam</td><td>10</td><td>Ting</td></tr>",
            "<tr><td>Production Technician - WC20</td><td>Sacksteder</td><td>11</td><td>Ting</td></tr>",
            "<tr><td>Production Technician - WC20</td><td>Randall</td><td>12</td><td>Ting</td></tr>",
            "<tr><td>Production Technician - WC20</td><td>Earls</td><td>13</td><td>Ting</td></tr>",
            "<tr><td>Production Technician - WC20</td><td>Dyck</td><td>14</td><td>Ting</td></tr>",
            "<tr><td>Production Technician - WC20</td><td>Feng</td><td>15</td><td>Ting</td></tr>",
            "<tr><td>Production Technician - WC20</td><td>Fakhouri</td><td>16</td><td>Ting</td></tr>",
            "<tr><td>Production Technician - WC20</td><td>Decker</td><td>17</td><td>Ting</td></tr>",
            "<tr><td>Production Technician - WC20</td><td>Chen</td><td>18</td><td>Ting</td></tr>",
            "<tr><td>Production Technician - WC20</td><td>Hesse</td><td>19</td><td>Ting</td></tr>",
            "<tr><td>Production Technician - WC20</td><td>Hines</td><td>20</td><td>Ting</td></tr>",
            "<tr><td>Production Technician - WC20</td><td>Mirchandani</td><td>21</td><td>Ting</td></tr>",
            "<tr><td>Production Technician - WC30</td><td>Ingle</td><td>22</td><td>Ingle</td></tr>",
            "<tr><td>Production Technician - WC30</td><td>Koch</td><td>23</td><td>Ingle</td></tr>",
            "<tr><td>Production Technician - WC30</td><td>King</td><td>24</td><td>Ingle</td></tr>",
            "<tr><td>Production Technician - WC30</td><td>Johnson</td><td>25</td><td>Ingle</td></tr>",
            "<tr><td>Production Technician - WC30</td><td>Li</td><td>26</td><td>Ingle</td></tr>",
            "<tr><td>Production Technician - WC30</td><td>Frum</td><td>27</td><td>Ingle</td></tr>",
            "<tr><td>Production Technician - WC30</td><td>Martin</td><td>28</td><td>Ingle</td></tr>",
            "<tr><td>Production Technician - WC30</td><td>Lawrence</td><td>29</td><td>Ingle</td></tr>",
            "<tr><td>Production Technician - WC30</td><td>Miksovsky</td><td>30</td><td>Ingle</td></tr>",
            "<tr><td>Production Technician - WC30</td><td>Metters</td><td>31</td><td>Ingle</td></tr>",
            "<tr><td>Production Technician - WC30</td><td>Yalovsky</td><td>32</td><td>Ingle</td></tr>",
            "<tr><td>Production Technician - WC30</td><td>Zabokritski</td><td>33</td><td>Ingle</td></tr>",
            "<tr><td>Production Technician - WC30</td><td>Young</td><td>34</td><td>Ingle</td></tr>",
            "<tr><td>Production Technician - WC30</td><td>Vanderhyde</td><td>35</td><td>Ingle</td></tr>",
            "<tr><td>Production Technician - WC30</td><td>Wang</td><td>36</td><td>Ingle</td></tr>",
            "<tr><td>Production Technician - WC30</td><td>Reátegui Alayo</td><td>37</td><td>Ingle</td></tr>",
            "<tr><td>Production Technician - WC30</td><td>Watters</td><td>38</td><td>Ingle</td></tr>",
            "<tr><td>Production Technician - WC30</td><td>Ruth</td><td>39</td><td>Ingle</td></tr>",
            "<tr><td>Production Technician - WC30</td><td>Shabalin</td><td>40</td><td>Ingle</td></tr>",
            "<tr><td>Production Technician - WC30</td><td>Selikoff</td><td>41</td><td>Ingle</td></tr>",
            "<tr><td>Production Technician - WC30</td><td>Poland</td><td>42</td><td>Ingle</td></tr>",
            "<tr><td>Production Technician - WC30</td><td>Rettig</td><td>43</td><td>Ingle</td></tr>",
            "<tr><td>Production Technician - WC30</td><td>Osada</td><td>44</td><td>Ingle</td></tr>",
            "<tr><td>Production Technician - WC30</td><td>Philips</td><td>45</td><td>Ingle</td></tr>",
            "<tr><td>Production Technician - WC30</td><td>Netz</td><td>46</td><td>Ingle</td></tr>",
            "<tr><td>Production Technician - WC40</td><td>Northup</td><td>47</td><td>Northup</td></tr>",
            "<tr><td>Production Technician - WC40</td><td>Patel</td><td>48</td><td>Northup</td></tr>",
            "<tr><td>Production Technician - WC40</td><td>Nay</td><td>49</td><td>Northup</td></tr>",
            "<tr><td>Production Technician - WC40</td><td>Nusbaum</td><td>50</td><td>Northup</td></tr>",
            "<tr><td>Production Technician - WC40</td><td>Myer</td><td>51</td><td>Northup</td></tr>",
            "<tr><td>Production Technician - WC40</td><td>McGuel</td><td>52</td><td>Northup</td></tr>",
            "<tr><td>Production Technician - WC40</td><td>Mohamed</td><td>53</td><td>Northup</td></tr>",
            "<tr><td>Production Technician - WC40</td><td>Nartker</td><td>54</td><td>Northup</td></tr>",
            "<tr><td>Production Technician - WC40</td><td>Lloyd</td><td>55</td><td>Northup</td></tr>",
            "<tr><td>Production Technician - WC40</td><td>Lee</td><td>56</td><td>Northup</td></tr>",
            "<tr><td>Production Technician - WC40</td><td>Mares</td><td>57</td><td>Northup</td></tr>",
            "<tr><td>Production Technician - WC40</td><td>Liu</td><td>58</td><td>Northup</td></tr>",
            "<tr><td>Production Technician - WC40</td><td>Cornelsen</td><td>59</td><td>Northup</td></tr>",
            "<tr><td>Production Technician - WC40</td><td>Brown</td><td>60</td><td>Northup</td></tr>",
            "<tr><td>Production Technician - WC40</td><td>Cook</td><td>61</td><td>Northup</td></tr>",
            "<tr><td>Production Technician - WC40</td><td>Creasey</td><td>62</td><td>Northup</td></tr>",
            "<tr><td>Production Technician - WC40</td><td>Goldstein</td><td>63</td><td>Northup</td></tr>",
            "<tr><td>Production Technician - WC40</td><td>Frintu</td><td>64</td><td>Northup</td></tr>",
            "<tr><td>Production Technician - WC40</td><td>Kaliyath</td><td>65</td><td>Northup</td></tr>",
            "<tr><td>Production Technician - WC40</td><td>Martinez</td><td>66</td><td>Northup</td></tr>",
            "<tr><td>Production Technician - WC40</td><td>Holliday</td><td>67</td><td>Northup</td></tr>",
            "<tr><td>Production Technician - WC40</td><td>Komosinski</td><td>68</td><td>Northup</td></tr>",
            "<tr><td>Production Technician - WC40</td><td>Yukish</td><td>69</td><td>Northup</td></tr>",
            "<tr><td>Production Technician - WC40</td><td>Rothkugel</td><td>70</td><td>Northup</td></tr>",
            "<tr><td>Production Technician - WC40</td><td>Caron</td><td>71</td><td>Northup</td></tr>",
            "<tr><td>Production Technician - WC40</td><td>Cetinok</td><td>72</td><td>Northup</td></tr>",
            "<tr><td>Production Technician - WC45</td><td>Cencini</td><td>73</td><td>Cencini</td></tr>",
            "<tr><td>Production Technician - WC45</td><td>Koenigsbauer</td><td>74</td><td>Cencini</td></tr>",
            "<tr><td>Production Technician - WC45</td><td>Steele</td><td>75</td><td>Cencini</td></tr>",
            "<tr><td>Production Technician - WC45</td><td>Preston</td><td>76</td><td>Cencini</td></tr>",
            "<tr><td>Production Technician - WC45</td><td>Nayberg</td><td>77</td><td>Cencini</td></tr>",
            "<tr><td>Production Technician - WC45</td><td>Penuchot</td><td>78</td><td>Cencini</td></tr>",
            "<tr><td>Production Technician - WC45</td><td>McKay</td><td>79</td><td>Cencini</td></tr>",
            "<tr><td>Production Technician - WC45</td><td>Hite</td><td>80</td><td>Cencini</td></tr>",
            "<tr><td>Production Technician - WC45</td><td>Esteves</td><td>81</td><td>Cencini</td></tr>",
            "<tr><td>Production Technician - WC45</td><td>Rounthwaite</td><td>82</td><td>Cencini</td></tr>",
            "<tr><td>Production Technician - WC45</td><td>Newman</td><td>83</td><td>Cencini</td></tr>",
            "<tr><td>Production Technician - WC45</td><td>Munson</td><td>84</td><td>Cencini</td></tr>",
            "<tr><td>Production Technician - WC45</td><td>Alderson</td><td>85</td><td>Cencini</td></tr>",
            "<tr><td>Production Technician - WC45</td><td>Gode</td><td>86</td><td>Cencini</td></tr>",
            "<tr><td>Production Technician - WC45</td><td>Flood</td><td>87</td><td>Cencini</td></tr>",
            "<tr><td>Production Technician - WC50</td><td>Samant</td><td>0</td><td>Samant</td></tr>",
            "<tr><td>Production Technician - WC50</td><td>Scardelis</td><td>1</td><td>Samant</td></tr>",
            "<tr><td>Production Technician - WC50</td><td>Yu</td><td>2</td><td>Samant</td></tr>",
            "<tr><td>Production Technician - WC50</td><td>Pournasseh</td><td>3</td><td>Samant</td></tr>",
            "<tr><td>Production Technician - WC50</td><td>Tejani</td><td>4</td><td>Samant</td></tr>",
            "<tr><td>Production Technician - WC50</td><td>Keyser</td><td>5</td><td>Samant</td></tr>",
            "<tr><td>Production Technician - WC50</td><td>Hunter</td><td>6</td><td>Samant</td></tr>",
            "<tr><td>Production Technician - WC50</td><td>Song</td><td>7</td><td>Samant</td></tr>",
            "<tr><td>Production Technician - WC50</td><td>Tibbott</td><td>8</td><td>Samant</td></tr>",
            "<tr><td>Production Technician - WC50</td><td>Smith</td><td>9</td><td>Samant</td></tr>",
            "<tr><td>Production Technician - WC50</td><td>Miller</td><td>10</td><td>Samant</td></tr>",
            "<tr><td>Production Technician - WC50</td><td>Keil</td><td>11</td><td>Samant</td></tr>",
            "<tr><td>Production Technician - WC50</td><td>Hohman</td><td>12</td><td>Samant</td></tr>",
            "<tr><td>Production Technician - WC50</td><td>Male</td><td>13</td><td>Samant</td></tr>",
            "<tr><td>Production Technician - WC50</td><td>Hall</td><td>88</td><td>Samant</td></tr>",
            "<tr><td>Production Technician - WC50</td><td>Lertpiriyasuwat</td><td>89</td><td>Samant</td></tr>",
            "<tr><td>Production Technician - WC50</td><td>Cao</td><td>90</td><td>Samant</td></tr>",
            "<tr><td>Production Technician - WC50</td><td>Evans</td><td>91</td><td>Samant</td></tr>",
            "<tr><td>Production Technician - WC50</td><td>Barbariol</td><td>92</td><td>Samant</td></tr>",
            "<tr><td>Production Technician - WC50</td><td>Fatima</td><td>93</td><td>Samant</td></tr>",
            "<tr><td>Production Technician - WC50</td><td>Entin</td><td>94</td><td>Samant</td></tr>",
            "<tr><td>Production Technician - WC50</td><td>Ciccu</td><td>95</td><td>Samant</td></tr>",
            "<tr><td>Production Technician - WC50</td><td>Moschell</td><td>96</td><td>Samant</td></tr>",
            "<tr><td>Production Technician - WC50</td><td>Krapauskas</td><td>97</td><td>Samant</td></tr>",
            "<tr><td>Production Technician - WC50</td><td>Patten</td><td>98</td><td>Samant</td></tr>",
            "<tr><td>Production Technician - WC50</td><td>Niswonger</td><td>99</td><td>Samant</td></tr>",
            "<tr><td>Production Technician - WC60</td><td>Simon</td><td>14</td><td>Simon</td></tr>",
            "<tr><td>Production Technician - WC60</td><td>Mohan</td><td>15</td><td>Simon</td></tr>",
            "<tr><td>Production Technician - WC60</td><td>Okelberry</td><td>16</td><td>Simon</td></tr>",
            "<tr><td>Production Technician - WC60</td><td>Stahl</td><td>17</td><td>Simon</td></tr>",
            "<tr><td>Production Technician - WC60</td><td>Shoop</td><td>18</td><td>Simon</td></tr>",
            "<tr><td>Production Technician - WC60</td><td>McArthur</td><td>19</td><td>Simon</td></tr>",
            "<tr><td>Production Technician - WC60</td><td>Lugo</td><td>20</td><td>Simon</td></tr>",
            "<tr><td>Production Technician - WC60</td><td>Gilbert</td><td>21</td><td>Simon</td></tr>",
            "<tr><td>Production Technician - WC60</td><td>Heidepriem</td><td>22</td><td>Simon</td></tr>",
            "<tr><td>Production Technician - WC60</td><td>Laszlo</td><td>23</td><td>Simon</td></tr>",
            "<tr><td>Production Technician - WC60</td><td>Abercrombie</td><td>24</td><td>Simon</td></tr>",
            "<tr><td>Production Technician - WC60</td><td>Dudenhoefer</td><td>25</td><td>Simon</td></tr>",
            "<tr><td>Production Technician - WC60</td><td>Zwilling</td><td>26</td><td>Simon</td></tr>",
            "<tr><td>Production Technician - WC60</td><td>Fitzgerald</td><td>27</td><td>Simon</td></tr>",
            "<tr><td>Production Technician - WC60</td><td>Khanna</td><td>28</td><td>Simon</td></tr>",
            "<tr><td>Production Technician - WC60</td><td>Reeves</td><td>29</td><td>Simon</td></tr>",
            "<tr><td>Production Technician - WC60</td><td>Dusza</td><td>30</td><td>Simon</td></tr>",
            "<tr><td>Production Technician - WC60</td><td>Masters</td><td>31</td><td>Simon</td></tr>",
            "<tr><td>Production Technician - WC60</td><td>Adams</td><td>32</td><td>Simon</td></tr>",
            "<tr><td>Production Technician - WC60</td><td>Ortiz</td><td>33</td><td>Simon</td></tr>",
            "<tr><td>Production Technician - WC60</td><td>Anderson</td><td>34</td><td>Simon</td></tr>",
            "<tr><td>Production Technician - WC60</td><td>Baker</td><td>35</td><td>Simon</td></tr>",
            "<tr><td>Production Technician - WC60</td><td>Kogan</td><td>36</td><td>Simon</td></tr>",
            "<tr><td>Production Technician - WC60</td><td>Michaels</td><td>37</td><td>Simon</td></tr>",
            "<tr><td>Production Technician - WC60</td><td>Rapier</td><td>38</td><td>Simon</td></tr>",
            "<tr><td>Production Technician - WC60</td><td>Kramer</td><td>39</td><td>Simon</td></tr>",
            "<tr><td>Purchasing Assistant</td><td>Hill</td><td>50</td><td>Hill</td></tr>",
            "<tr><td>Purchasing Assistant</td><td>Hillmann</td><td>51</td><td>Hill</td></tr>",
            "<tr><td>Purchasing Manager</td><td>Word</td><td>49</td><td>Word</td></tr>",
            "<tr><td>Quality Assurance Manager</td><td>Abolrous</td><td>80</td><td>Abolrous</td></tr>",
            "<tr><td>Quality Assurance Supervisor</td><td>Wu</td><td>81</td><td>Wu</td></tr>",
            "<tr><td>Quality Assurance Technician</td><td>Alexander</td><td>82</td><td>Alexander</td></tr>",
            "<tr><td>Quality Assurance Technician</td><td>Harrington</td><td>83</td><td>Alexander</td></tr>",
            "<tr><td>Quality Assurance Technician</td><td>Berglund</td><td>84</td><td>Alexander</td></tr>",
            "<tr><td>Quality Assurance Technician</td><td>Charncherngkha</td><td>85</td><td>Alexander</td></tr>",
            "<tr><td>Recruiter</td><td>Johnson</td><td>49</td><td>Johnson</td></tr>",
            "<tr><td>Recruiter</td><td>Luthra</td><td>50</td><td>Johnson</td></tr>",
            "<tr><td>Research and Development Engineer</td><td>Margheim</td><td>62</td><td>Margheim</td></tr>",
            "<tr><td>Research and Development Engineer</td><td>Matthew</td><td>63</td><td>Margheim</td></tr>",
            "<tr><td>Research and Development Manager</td><td>Raheem</td><td>16</td><td>Raheem</td></tr>",
            "<tr><td>Research and Development Manager</td><td>Miller</td><td>61</td><td>Raheem</td></tr>",
            "<tr><td>Sales Representative</td><td>Ansman-Wolfe</td><td>22</td><td>Ansman-Wolfe</td></tr>",
            "<tr><td>Sales Representative</td><td>Campbell</td><td>23</td><td>Ansman-Wolfe</td></tr>",
            "<tr><td>Sales Representative</td><td>Carson</td><td>24</td><td>Ansman-Wolfe</td></tr>",
            "<tr><td>Sales Representative</td><td>Ito</td><td>26</td><td>Ansman-Wolfe</td></tr>",
            "<tr><td>Sales Representative</td><td>Mitchell</td><td>27</td><td>Ansman-Wolfe</td></tr>",
            "<tr><td>Sales Representative</td><td>Reiter</td><td>29</td><td>Ansman-Wolfe</td></tr>",
            "<tr><td>Sales Representative</td><td>Saraiva</td><td>31</td><td>Ansman-Wolfe</td></tr>",
            "<tr><td>Sales Representative</td><td>Vargas</td><td>33</td><td>Ansman-Wolfe</td></tr>",
            "<tr><td>Sales Representative</td><td>Varkey Chudukatil</td><td>34</td><td>Ansman-Wolfe</td></tr>",
            "<tr><td>Sales Representative</td><td>Valdez</td><td>35</td><td>Ansman-Wolfe</td></tr>",
            "<tr><td>Sales Representative</td><td>Tsoflias</td><td>36</td><td>Ansman-Wolfe</td></tr>",
            "<tr><td>Sales Representative</td><td>Pak</td><td>37</td><td>Ansman-Wolfe</td></tr>",
            "<tr><td>Sales Representative</td><td>Blythe</td><td>38</td><td>Ansman-Wolfe</td></tr>",
            "<tr><td>Sales Representative</td><td>Mensa-Annan</td><td>39</td><td>Ansman-Wolfe</td></tr>",
            "<tr><td>Scheduling Assistant</td><td>Vong</td><td>45</td><td>Vong</td></tr>",
            "<tr><td>Scheduling Assistant</td><td>Uddin</td><td>46</td><td>Vong</td></tr>",
            "<tr><td>Scheduling Assistant</td><td>Brewer</td><td>47</td><td>Vong</td></tr>",
            "<tr><td>Scheduling Assistant</td><td>LaMee</td><td>48</td><td>Vong</td></tr>",
            "<tr><td>Senior Design Engineer</td><td>Sullivan</td><td>3</td><td>Sullivan</td></tr>",
            "<tr><td>Senior Tool Designer</td><td>Cracium</td><td>7</td><td>Cracium</td></tr>",
            "<tr><td>Senior Tool Designer</td><td>Walters</td><td>48</td><td>Cracium</td></tr>",
            "<tr><td>Shipping and Receiving Clerk</td><td>Berndt</td><td>94</td><td>Berndt</td></tr>",
            "<tr><td>Shipping and Receiving Clerk</td><td>Kuppa</td><td>95</td><td>Berndt</td></tr>",
            "<tr><td>Shipping and Receiving Supervisor</td><td>Ackerman</td><td>93</td><td>Ackerman</td></tr>",
            "<tr><td>Stocker</td><td>Bischoff</td><td>96</td><td>Bischoff</td></tr>",
            "<tr><td>Stocker</td><td>Eaton</td><td>97</td><td>Bischoff</td></tr>",
            "<tr><td>Stocker</td><td>Ralls</td><td>98</td><td>Bischoff</td></tr>",
            "<tr><td>Tool Designer</td><td>Galvin</td><td>8</td><td>Galvin</td></tr>",
            "<tr><td>Tool Designer</td><td>D'Hers</td><td>9</td><td>Galvin</td></tr>",
            "<tr><td>Vice President of Engineering</td><td>Duffy</td><td>1</td><td>Duffy</td></tr>",
            "<tr><td>Vice President of Production</td><td>Hamilton</td><td>64</td><td>Hamilton</td></tr>",
            "<tr><td>Vice President of Sales</td><td>Welcker</td><td>10</td><td>Welcker</td></tr>",
            "</table>"
        ]
    }
}
],
            "execution_count": 2
        }
    ]
}