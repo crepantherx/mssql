{
    "metadata": {
        "kernelspec": {
            "name": "SQL",
            "display_name": "SQL",
            "language": "sql"
        },
        "language_info": {
            "name": "sql",
            "version": ""
        }
    },
    "nbformat_minor": 2,
    "nbformat": 4,
    "cells": [
        {
            "cell_type": "code",
            "source": [
                "-- hire date of the last employee in each department for the given salary\r\n",
                "\r\n",
                "SELECT Department\r\n",
                "    , LastName\r\n",
                "    , Rate\r\n",
                "    , HireDate\r\n",
                "    , LAST_VALUE(HireDate) OVER (\r\n",
                "        PARTITION BY Department ORDER BY Rate\r\n",
                "        ) AS LastValue\r\n",
                "FROM HumanResources.vEmployeeDepartmentHistory AS edh\r\n",
                "INNER JOIN HumanResources.EmployeePayHistory AS eph\r\n",
                "    ON eph.BusinessEntityID = edh.BusinessEntityID\r\n",
                "INNER JOIN HumanResources.Employee AS e\r\n",
                "    ON e.BusinessEntityID = edh.BusinessEntityID\r\n",
                "WHERE Department IN (N'Information Services', N'Document Control');"
            ],
            "metadata": {
                "azdata_cell_guid": "038505f1-4db1-4ce6-95fa-a63949e06f6b",
                "language": "sql"
            },
            "outputs": [
                {
                    "output_type": "display_data",
                    "data": {
                        "text/html": "(15 rows affected)"
                    },
                    "metadata": {}
                },
                {
                    "output_type": "display_data",
                    "data": {
                        "text/html": "Total execution time: 00:00:00.027"
                    },
                    "metadata": {}
                },
                {
                    "output_type": "execute_result",
                    "metadata": {},
                    "execution_count": 1,
                    "data": {
                        "application/vnd.dataresource+json": {
                            "schema": {
                                "fields": [
                                    {
                                        "name": "Department"
                                    },
                                    {
                                        "name": "LastName"
                                    },
                                    {
                                        "name": "Rate"
                                    },
                                    {
                                        "name": "HireDate"
                                    },
                                    {
                                        "name": "LastValue"
                                    }
                                ]
                            },
                            "data": [
                                {
                                    "0": "Document Control",
                                    "1": "Berge",
                                    "2": "10.25",
                                    "3": "2009-02-09",
                                    "4": "2009-01-22"
                                },
                                {
                                    "0": "Document Control",
                                    "1": "Chai",
                                    "2": "10.25",
                                    "3": "2009-01-22",
                                    "4": "2009-01-22"
                                },
                                {
                                    "0": "Document Control",
                                    "1": "Kharatishvili",
                                    "2": "16.8269",
                                    "3": "2008-12-16",
                                    "4": "2009-03-06"
                                },
                                {
                                    "0": "Document Control",
                                    "1": "Norred",
                                    "2": "16.8269",
                                    "3": "2009-03-06",
                                    "4": "2009-03-06"
                                },
                                {
                                    "0": "Document Control",
                                    "1": "Arifin",
                                    "2": "17.7885",
                                    "3": "2009-01-04",
                                    "4": "2009-01-04"
                                },
                                {
                                    "0": "Information Services",
                                    "1": "Bacon",
                                    "2": "27.4038",
                                    "3": "2009-01-11",
                                    "4": "2008-12-23"
                                },
                                {
                                    "0": "Information Services",
                                    "1": "Meyyappan",
                                    "2": "27.4038",
                                    "3": "2009-02-03",
                                    "4": "2008-12-23"
                                },
                                {
                                    "0": "Information Services",
                                    "1": "Berg",
                                    "2": "27.4038",
                                    "3": "2009-02-16",
                                    "4": "2008-12-23"
                                },
                                {
                                    "0": "Information Services",
                                    "1": "Bueno",
                                    "2": "27.4038",
                                    "3": "2008-12-23",
                                    "4": "2008-12-23"
                                },
                                {
                                    "0": "Information Services",
                                    "1": "Connelly",
                                    "2": "32.4519",
                                    "3": "2009-02-23",
                                    "4": "2008-12-04"
                                },
                                {
                                    "0": "Information Services",
                                    "1": "Sharma",
                                    "2": "32.4519",
                                    "3": "2008-12-04",
                                    "4": "2008-12-04"
                                },
                                {
                                    "0": "Information Services",
                                    "1": "Wilson",
                                    "2": "38.4615",
                                    "3": "2009-01-22",
                                    "4": "2009-01-17"
                                },
                                {
                                    "0": "Information Services",
                                    "1": "Ajenstat",
                                    "2": "38.4615",
                                    "3": "2009-01-17",
                                    "4": "2009-01-17"
                                },
                                {
                                    "0": "Information Services",
                                    "1": "Conroy",
                                    "2": "39.6635",
                                    "3": "2009-02-04",
                                    "4": "2009-02-04"
                                },
                                {
                                    "0": "Information Services",
                                    "1": "Trenary",
                                    "2": "50.4808",
                                    "3": "2008-12-11",
                                    "4": "2008-12-11"
                                }
                            ]
                        },
                        "text/html": [
                            "<table>",
                            "<tr><th>Department</th><th>LastName</th><th>Rate</th><th>HireDate</th><th>LastValue</th></tr>",
                            "<tr><td>Document Control</td><td>Berge</td><td>10.25</td><td>2009-02-09</td><td>2009-01-22</td></tr>",
                            "<tr><td>Document Control</td><td>Chai</td><td>10.25</td><td>2009-01-22</td><td>2009-01-22</td></tr>",
                            "<tr><td>Document Control</td><td>Kharatishvili</td><td>16.8269</td><td>2008-12-16</td><td>2009-03-06</td></tr>",
                            "<tr><td>Document Control</td><td>Norred</td><td>16.8269</td><td>2009-03-06</td><td>2009-03-06</td></tr>",
                            "<tr><td>Document Control</td><td>Arifin</td><td>17.7885</td><td>2009-01-04</td><td>2009-01-04</td></tr>",
                            "<tr><td>Information Services</td><td>Bacon</td><td>27.4038</td><td>2009-01-11</td><td>2008-12-23</td></tr>",
                            "<tr><td>Information Services</td><td>Meyyappan</td><td>27.4038</td><td>2009-02-03</td><td>2008-12-23</td></tr>",
                            "<tr><td>Information Services</td><td>Berg</td><td>27.4038</td><td>2009-02-16</td><td>2008-12-23</td></tr>",
                            "<tr><td>Information Services</td><td>Bueno</td><td>27.4038</td><td>2008-12-23</td><td>2008-12-23</td></tr>",
                            "<tr><td>Information Services</td><td>Connelly</td><td>32.4519</td><td>2009-02-23</td><td>2008-12-04</td></tr>",
                            "<tr><td>Information Services</td><td>Sharma</td><td>32.4519</td><td>2008-12-04</td><td>2008-12-04</td></tr>",
                            "<tr><td>Information Services</td><td>Wilson</td><td>38.4615</td><td>2009-01-22</td><td>2009-01-17</td></tr>",
                            "<tr><td>Information Services</td><td>Ajenstat</td><td>38.4615</td><td>2009-01-17</td><td>2009-01-17</td></tr>",
                            "<tr><td>Information Services</td><td>Conroy</td><td>39.6635</td><td>2009-02-04</td><td>2009-02-04</td></tr>",
                            "<tr><td>Information Services</td><td>Trenary</td><td>50.4808</td><td>2008-12-11</td><td>2008-12-11</td></tr>",
                            "</table>"
                        ]
                    }
                }
            ],
            "execution_count": 1
        },
        {
            "cell_type": "code",
            "source": [
                "SELECT BusinessEntityID\r\n",
                "    , DATEPART(QUARTER, QuotaDate) AS Quarter\r\n",
                "    , YEAR(QuotaDate) AS SalesYear\r\n",
                "    , SalesQuota AS QuotaThisQuarter\r\n",
                "    , SalesQuota - FIRST_VALUE(SalesQuota)\r\n",
                "          OVER (PARTITION BY BusinessEntityID, YEAR(QuotaDate)\r\n",
                "              ORDER BY DATEPART(QUARTER, QuotaDate)) AS DifferenceFromFirstQuarter\r\n",
                "    , SalesQuota - LAST_VALUE(SalesQuota)\r\n",
                "          OVER (PARTITION BY BusinessEntityID, YEAR(QuotaDate)\r\n",
                "              ORDER BY DATEPART(QUARTER, QuotaDate)\r\n",
                "              RANGE BETWEEN CURRENT ROW AND UNBOUNDED FOLLOWING) AS DifferenceFromLastQuarter\r\n",
                "FROM Sales.SalesPersonQuotaHistory\r\n",
                "WHERE YEAR(QuotaDate) > 2005 AND BusinessEntityID BETWEEN 274 AND 275\r\n",
                "ORDER BY BusinessEntityID, SalesYear, Quarter;"
            ],
            "metadata": {
                "azdata_cell_guid": "910111a4-ad12-4d2b-8b03-86791968049e",
                "language": "sql"
            },
            "outputs": [
                {
                    "output_type": "display_data",
                    "data": {
                        "text/html": "(24 rows affected)"
                    },
                    "metadata": {}
                },
                {
                    "output_type": "display_data",
                    "data": {
                        "text/html": "Total execution time: 00:00:00.019"
                    },
                    "metadata": {}
                },
                {
                    "output_type": "execute_result",
                    "metadata": {},
                    "execution_count": 2,
                    "data": {
                        "application/vnd.dataresource+json": {
                            "schema": {
                                "fields": [
                                    {
                                        "name": "BusinessEntityID"
                                    },
                                    {
                                        "name": "Quarter"
                                    },
                                    {
                                        "name": "SalesYear"
                                    },
                                    {
                                        "name": "QuotaThisQuarter"
                                    },
                                    {
                                        "name": "DifferenceFromFirstQuarter"
                                    },
                                    {
                                        "name": "DifferenceFromLastQuarter"
                                    }
                                ]
                            },
                            "data": [
                                {
                                    "0": "274",
                                    "1": "2",
                                    "2": "2011",
                                    "3": "28000.00",
                                    "4": "0.00",
                                    "5": "-63000.00"
                                },
                                {
                                    "0": "274",
                                    "1": "3",
                                    "2": "2011",
                                    "3": "7000.00",
                                    "4": "-21000.00",
                                    "5": "-84000.00"
                                },
                                {
                                    "0": "274",
                                    "1": "4",
                                    "2": "2011",
                                    "3": "91000.00",
                                    "4": "63000.00",
                                    "5": "0.00"
                                },
                                {
                                    "0": "274",
                                    "1": "1",
                                    "2": "2012",
                                    "3": "140000.00",
                                    "4": "0.00",
                                    "5": "33000.00"
                                },
                                {
                                    "0": "274",
                                    "1": "2",
                                    "2": "2012",
                                    "3": "70000.00",
                                    "4": "-70000.00",
                                    "5": "-37000.00"
                                },
                                {
                                    "0": "274",
                                    "1": "3",
                                    "2": "2012",
                                    "3": "154000.00",
                                    "4": "14000.00",
                                    "5": "47000.00"
                                },
                                {
                                    "0": "274",
                                    "1": "4",
                                    "2": "2012",
                                    "3": "107000.00",
                                    "4": "-33000.00",
                                    "5": "0.00"
                                },
                                {
                                    "0": "274",
                                    "1": "1",
                                    "2": "2013",
                                    "3": "58000.00",
                                    "4": "0.00",
                                    "5": "-26000.00"
                                },
                                {
                                    "0": "274",
                                    "1": "2",
                                    "2": "2013",
                                    "3": "263000.00",
                                    "4": "205000.00",
                                    "5": "179000.00"
                                },
                                {
                                    "0": "274",
                                    "1": "3",
                                    "2": "2013",
                                    "3": "116000.00",
                                    "4": "58000.00",
                                    "5": "32000.00"
                                },
                                {
                                    "0": "274",
                                    "1": "4",
                                    "2": "2013",
                                    "3": "84000.00",
                                    "4": "26000.00",
                                    "5": "0.00"
                                },
                                {
                                    "0": "274",
                                    "1": "1",
                                    "2": "2014",
                                    "3": "187000.00",
                                    "4": "0.00",
                                    "5": "0.00"
                                },
                                {
                                    "0": "275",
                                    "1": "2",
                                    "2": "2011",
                                    "3": "367000.00",
                                    "4": "0.00",
                                    "5": "-135000.00"
                                },
                                {
                                    "0": "275",
                                    "1": "3",
                                    "2": "2011",
                                    "3": "556000.00",
                                    "4": "189000.00",
                                    "5": "54000.00"
                                },
                                {
                                    "0": "275",
                                    "1": "4",
                                    "2": "2011",
                                    "3": "502000.00",
                                    "4": "135000.00",
                                    "5": "0.00"
                                },
                                {
                                    "0": "275",
                                    "1": "1",
                                    "2": "2012",
                                    "3": "550000.00",
                                    "4": "0.00",
                                    "5": "-179000.00"
                                },
                                {
                                    "0": "275",
                                    "1": "2",
                                    "2": "2012",
                                    "3": "1429000.00",
                                    "4": "879000.00",
                                    "5": "700000.00"
                                },
                                {
                                    "0": "275",
                                    "1": "3",
                                    "2": "2012",
                                    "3": "1324000.00",
                                    "4": "774000.00",
                                    "5": "595000.00"
                                },
                                {
                                    "0": "275",
                                    "1": "4",
                                    "2": "2012",
                                    "3": "729000.00",
                                    "4": "179000.00",
                                    "5": "0.00"
                                },
                                {
                                    "0": "275",
                                    "1": "1",
                                    "2": "2013",
                                    "3": "1194000.00",
                                    "4": "0.00",
                                    "5": "345000.00"
                                },
                                {
                                    "0": "275",
                                    "1": "2",
                                    "2": "2013",
                                    "3": "1575000.00",
                                    "4": "381000.00",
                                    "5": "726000.00"
                                },
                                {
                                    "0": "275",
                                    "1": "3",
                                    "2": "2013",
                                    "3": "1218000.00",
                                    "4": "24000.00",
                                    "5": "369000.00"
                                },
                                {
                                    "0": "275",
                                    "1": "4",
                                    "2": "2013",
                                    "3": "849000.00",
                                    "4": "-345000.00",
                                    "5": "0.00"
                                },
                                {
                                    "0": "275",
                                    "1": "1",
                                    "2": "2014",
                                    "3": "869000.00",
                                    "4": "0.00",
                                    "5": "0.00"
                                }
                            ]
                        },
                        "text/html": [
                            "<table>",
                            "<tr><th>BusinessEntityID</th><th>Quarter</th><th>SalesYear</th><th>QuotaThisQuarter</th><th>DifferenceFromFirstQuarter</th><th>DifferenceFromLastQuarter</th></tr>",
                            "<tr><td>274</td><td>2</td><td>2011</td><td>28000.00</td><td>0.00</td><td>-63000.00</td></tr>",
                            "<tr><td>274</td><td>3</td><td>2011</td><td>7000.00</td><td>-21000.00</td><td>-84000.00</td></tr>",
                            "<tr><td>274</td><td>4</td><td>2011</td><td>91000.00</td><td>63000.00</td><td>0.00</td></tr>",
                            "<tr><td>274</td><td>1</td><td>2012</td><td>140000.00</td><td>0.00</td><td>33000.00</td></tr>",
                            "<tr><td>274</td><td>2</td><td>2012</td><td>70000.00</td><td>-70000.00</td><td>-37000.00</td></tr>",
                            "<tr><td>274</td><td>3</td><td>2012</td><td>154000.00</td><td>14000.00</td><td>47000.00</td></tr>",
                            "<tr><td>274</td><td>4</td><td>2012</td><td>107000.00</td><td>-33000.00</td><td>0.00</td></tr>",
                            "<tr><td>274</td><td>1</td><td>2013</td><td>58000.00</td><td>0.00</td><td>-26000.00</td></tr>",
                            "<tr><td>274</td><td>2</td><td>2013</td><td>263000.00</td><td>205000.00</td><td>179000.00</td></tr>",
                            "<tr><td>274</td><td>3</td><td>2013</td><td>116000.00</td><td>58000.00</td><td>32000.00</td></tr>",
                            "<tr><td>274</td><td>4</td><td>2013</td><td>84000.00</td><td>26000.00</td><td>0.00</td></tr>",
                            "<tr><td>274</td><td>1</td><td>2014</td><td>187000.00</td><td>0.00</td><td>0.00</td></tr>",
                            "<tr><td>275</td><td>2</td><td>2011</td><td>367000.00</td><td>0.00</td><td>-135000.00</td></tr>",
                            "<tr><td>275</td><td>3</td><td>2011</td><td>556000.00</td><td>189000.00</td><td>54000.00</td></tr>",
                            "<tr><td>275</td><td>4</td><td>2011</td><td>502000.00</td><td>135000.00</td><td>0.00</td></tr>",
                            "<tr><td>275</td><td>1</td><td>2012</td><td>550000.00</td><td>0.00</td><td>-179000.00</td></tr>",
                            "<tr><td>275</td><td>2</td><td>2012</td><td>1429000.00</td><td>879000.00</td><td>700000.00</td></tr>",
                            "<tr><td>275</td><td>3</td><td>2012</td><td>1324000.00</td><td>774000.00</td><td>595000.00</td></tr>",
                            "<tr><td>275</td><td>4</td><td>2012</td><td>729000.00</td><td>179000.00</td><td>0.00</td></tr>",
                            "<tr><td>275</td><td>1</td><td>2013</td><td>1194000.00</td><td>0.00</td><td>345000.00</td></tr>",
                            "<tr><td>275</td><td>2</td><td>2013</td><td>1575000.00</td><td>381000.00</td><td>726000.00</td></tr>",
                            "<tr><td>275</td><td>3</td><td>2013</td><td>1218000.00</td><td>24000.00</td><td>369000.00</td></tr>",
                            "<tr><td>275</td><td>4</td><td>2013</td><td>849000.00</td><td>-345000.00</td><td>0.00</td></tr>",
                            "<tr><td>275</td><td>1</td><td>2014</td><td>869000.00</td><td>0.00</td><td>0.00</td></tr>",
                            "</table>"
                        ]
                    }
                }
            ],
            "execution_count": 2
        }
    ]
}