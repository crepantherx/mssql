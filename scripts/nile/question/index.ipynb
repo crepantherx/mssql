{
    "metadata": {
        "kernelspec": {
            "name": "SQL",
            "display_name": "SQL",
            "language": "sql"
        },
        "language_info": {
            "name": "sql",
            "version": ""
        }
    },
    "nbformat_minor": 2,
    "nbformat": 4,
    "cells": [
        {
            "cell_type": "code",
            "source": [
                "USE nile;"
            ],
            "metadata": {
                "azdata_cell_guid": "00da0c90-f0d8-44c4-b234-95c3ddf2da81",
                "language": "sql"
            },
            "outputs": [
                {
                    "output_type": "display_data",
                    "data": {
                        "text/html": "Commands completed successfully."
                    },
                    "metadata": {}
                },
                {
                    "output_type": "display_data",
                    "data": {
                        "text/html": "Total execution time: 00:00:00"
                    },
                    "metadata": {}
                }
            ],
            "execution_count": 2
        },
        {
            "cell_type": "code",
            "source": [
                "SELECT BusinessEntityID, TerritoryID   \r\n",
                "   ,DATEPART(yy,ModifiedDate) AS SalesYear  \r\n",
                "   ,SalesYTD \r\n",
                "   ,SUM(SalesYTD) OVER (PARTITION BY TerritoryID  ORDER BY DATEPART(yy,ModifiedDate)) AS CumulativeTotal  \r\n",
                "FROM Sales.SalesPerson  \r\n",
                "WHERE TerritoryID IS NULL OR TerritoryID < 5  \r\n",
                "ORDER BY TerritoryID,SalesYear"
            ],
            "metadata": {
                "azdata_cell_guid": "03466190-c09c-4dbf-b977-6e5dc51456a1",
                "language": "sql"
            },
            "outputs": [
                {
                    "output_type": "display_data",
                    "data": {
                        "text/html": "(10 rows affected)"
                    },
                    "metadata": {}
                },
                {
                    "output_type": "display_data",
                    "data": {
                        "text/html": "Total execution time: 00:00:00.028"
                    },
                    "metadata": {}
                },
                {
                    "output_type": "execute_result",
                    "metadata": {},
                    "execution_count": 3,
                    "data": {
                        "application/vnd.dataresource+json": {
                            "schema": {
                                "fields": [
                                    {
                                        "name": "BusinessEntityID"
                                    },
                                    {
                                        "name": "TerritoryID"
                                    },
                                    {
                                        "name": "SalesYear"
                                    },
                                    {
                                        "name": "SalesYTD"
                                    },
                                    {
                                        "name": "CumulativeTotal"
                                    }
                                ]
                            },
                            "data": [
                                {
                                    "0": "274",
                                    "1": "NULL",
                                    "2": "2010",
                                    "3": "559697.5639",
                                    "4": "559697.5639"
                                },
                                {
                                    "0": "287",
                                    "1": "NULL",
                                    "2": "2012",
                                    "3": "519905.932",
                                    "4": "1079603.4959"
                                },
                                {
                                    "0": "285",
                                    "1": "NULL",
                                    "2": "2013",
                                    "3": "172524.4512",
                                    "4": "1252127.9471"
                                },
                                {
                                    "0": "283",
                                    "1": "1",
                                    "2": "2011",
                                    "3": "1573012.9383",
                                    "4": "2925590.0708"
                                },
                                {
                                    "0": "280",
                                    "1": "1",
                                    "2": "2011",
                                    "3": "1352577.1325",
                                    "4": "2925590.0708"
                                },
                                {
                                    "0": "284",
                                    "1": "1",
                                    "2": "2012",
                                    "3": "1576562.1966",
                                    "4": "4502152.2674"
                                },
                                {
                                    "0": "275",
                                    "1": "2",
                                    "2": "2011",
                                    "3": "3763178.1787",
                                    "4": "3763178.1787"
                                },
                                {
                                    "0": "277",
                                    "1": "3",
                                    "2": "2011",
                                    "3": "3189418.3662",
                                    "4": "3189418.3662"
                                },
                                {
                                    "0": "276",
                                    "1": "4",
                                    "2": "2011",
                                    "3": "4251368.5497",
                                    "4": "6709904.1666"
                                },
                                {
                                    "0": "281",
                                    "1": "4",
                                    "2": "2011",
                                    "3": "2458535.6169",
                                    "4": "6709904.1666"
                                }
                            ]
                        },
                        "text/html": [
                            "<table>",
                            "<tr><th>BusinessEntityID</th><th>TerritoryID</th><th>SalesYear</th><th>SalesYTD</th><th>CumulativeTotal</th></tr>",
                            "<tr><td>274</td><td>NULL</td><td>2010</td><td>559697.5639</td><td>559697.5639</td></tr>",
                            "<tr><td>287</td><td>NULL</td><td>2012</td><td>519905.932</td><td>1079603.4959</td></tr>",
                            "<tr><td>285</td><td>NULL</td><td>2013</td><td>172524.4512</td><td>1252127.9471</td></tr>",
                            "<tr><td>283</td><td>1</td><td>2011</td><td>1573012.9383</td><td>2925590.0708</td></tr>",
                            "<tr><td>280</td><td>1</td><td>2011</td><td>1352577.1325</td><td>2925590.0708</td></tr>",
                            "<tr><td>284</td><td>1</td><td>2012</td><td>1576562.1966</td><td>4502152.2674</td></tr>",
                            "<tr><td>275</td><td>2</td><td>2011</td><td>3763178.1787</td><td>3763178.1787</td></tr>",
                            "<tr><td>277</td><td>3</td><td>2011</td><td>3189418.3662</td><td>3189418.3662</td></tr>",
                            "<tr><td>276</td><td>4</td><td>2011</td><td>4251368.5497</td><td>6709904.1666</td></tr>",
                            "<tr><td>281</td><td>4</td><td>2011</td><td>2458535.6169</td><td>6709904.1666</td></tr>",
                            "</table>"
                        ]
                    }
                }
            ],
            "execution_count": 3
        }
    ]
}