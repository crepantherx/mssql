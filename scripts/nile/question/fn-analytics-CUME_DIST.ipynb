{
    "metadata": {
        "kernelspec": {
            "name": "SQL",
            "display_name": "SQL",
            "language": "sql"
        },
        "language_info": {
            "name": "sql",
            "version": ""
        }
    },
    "nbformat_minor": 2,
    "nbformat": 4,
    "cells": [
        {
            "cell_type": "code",
            "source": [
                "SELECT Department, LastName, Rate,   \r\n",
                "       CUME_DIST () OVER (PARTITION BY Department ORDER BY Rate) AS CumeDist,   \r\n",
                "       PERCENT_RANK() OVER (PARTITION BY Department ORDER BY Rate ) AS PctRank  \r\n",
                "FROM HumanResources.vEmployeeDepartmentHistory AS edh  INNER JOIN HumanResources.EmployeePayHistory AS e ON e.BusinessEntityID = edh.BusinessEntityID  \r\n",
                "WHERE Department IN (N'Information Services',N'Document Control')   \r\n",
                "ORDER BY Department, Rate DESC;"
            ],
            "metadata": {
                "azdata_cell_guid": "af952981-e57a-41f5-83b5-f0d78666c8b5",
                "language": "sql",
                "tags": []
            },
            "outputs": [
                {
                    "output_type": "display_data",
                    "data": {
                        "text/html": "(15 rows affected)"
                    },
                    "metadata": {}
                },
                {
                    "output_type": "display_data",
                    "data": {
                        "text/html": "Total execution time: 00:00:00.230"
                    },
                    "metadata": {}
                },
                {
                    "output_type": "execute_result",
                    "metadata": {},
                    "execution_count": 1,
                    "data": {
                        "application/vnd.dataresource+json": {
                            "schema": {
                                "fields": [
                                    {
                                        "name": "Department"
                                    },
                                    {
                                        "name": "LastName"
                                    },
                                    {
                                        "name": "Rate"
                                    },
                                    {
                                        "name": "CumeDist"
                                    },
                                    {
                                        "name": "PctRank"
                                    }
                                ]
                            },
                            "data": [
                                {
                                    "0": "Document Control",
                                    "1": "Arifin",
                                    "2": "17.7885",
                                    "3": "1",
                                    "4": "1"
                                },
                                {
                                    "0": "Document Control",
                                    "1": "Kharatishvili",
                                    "2": "16.8269",
                                    "3": "0.8",
                                    "4": "0.5"
                                },
                                {
                                    "0": "Document Control",
                                    "1": "Norred",
                                    "2": "16.8269",
                                    "3": "0.8",
                                    "4": "0.5"
                                },
                                {
                                    "0": "Document Control",
                                    "1": "Berge",
                                    "2": "10.25",
                                    "3": "0.4",
                                    "4": "0"
                                },
                                {
                                    "0": "Document Control",
                                    "1": "Chai",
                                    "2": "10.25",
                                    "3": "0.4",
                                    "4": "0"
                                },
                                {
                                    "0": "Information Services",
                                    "1": "Trenary",
                                    "2": "50.4808",
                                    "3": "1",
                                    "4": "1"
                                },
                                {
                                    "0": "Information Services",
                                    "1": "Conroy",
                                    "2": "39.6635",
                                    "3": "0.9",
                                    "4": "0.8888888888888888"
                                },
                                {
                                    "0": "Information Services",
                                    "1": "Wilson",
                                    "2": "38.4615",
                                    "3": "0.8",
                                    "4": "0.6666666666666666"
                                },
                                {
                                    "0": "Information Services",
                                    "1": "Ajenstat",
                                    "2": "38.4615",
                                    "3": "0.8",
                                    "4": "0.6666666666666666"
                                },
                                {
                                    "0": "Information Services",
                                    "1": "Connelly",
                                    "2": "32.4519",
                                    "3": "0.6",
                                    "4": "0.4444444444444444"
                                },
                                {
                                    "0": "Information Services",
                                    "1": "Sharma",
                                    "2": "32.4519",
                                    "3": "0.6",
                                    "4": "0.4444444444444444"
                                },
                                {
                                    "0": "Information Services",
                                    "1": "Bacon",
                                    "2": "27.4038",
                                    "3": "0.4",
                                    "4": "0"
                                },
                                {
                                    "0": "Information Services",
                                    "1": "Meyyappan",
                                    "2": "27.4038",
                                    "3": "0.4",
                                    "4": "0"
                                },
                                {
                                    "0": "Information Services",
                                    "1": "Berg",
                                    "2": "27.4038",
                                    "3": "0.4",
                                    "4": "0"
                                },
                                {
                                    "0": "Information Services",
                                    "1": "Bueno",
                                    "2": "27.4038",
                                    "3": "0.4",
                                    "4": "0"
                                }
                            ]
                        },
                        "text/html": [
                            "<table>",
                            "<tr><th>Department</th><th>LastName</th><th>Rate</th><th>CumeDist</th><th>PctRank</th></tr>",
                            "<tr><td>Document Control</td><td>Arifin</td><td>17.7885</td><td>1</td><td>1</td></tr>",
                            "<tr><td>Document Control</td><td>Kharatishvili</td><td>16.8269</td><td>0.8</td><td>0.5</td></tr>",
                            "<tr><td>Document Control</td><td>Norred</td><td>16.8269</td><td>0.8</td><td>0.5</td></tr>",
                            "<tr><td>Document Control</td><td>Berge</td><td>10.25</td><td>0.4</td><td>0</td></tr>",
                            "<tr><td>Document Control</td><td>Chai</td><td>10.25</td><td>0.4</td><td>0</td></tr>",
                            "<tr><td>Information Services</td><td>Trenary</td><td>50.4808</td><td>1</td><td>1</td></tr>",
                            "<tr><td>Information Services</td><td>Conroy</td><td>39.6635</td><td>0.9</td><td>0.8888888888888888</td></tr>",
                            "<tr><td>Information Services</td><td>Wilson</td><td>38.4615</td><td>0.8</td><td>0.6666666666666666</td></tr>",
                            "<tr><td>Information Services</td><td>Ajenstat</td><td>38.4615</td><td>0.8</td><td>0.6666666666666666</td></tr>",
                            "<tr><td>Information Services</td><td>Connelly</td><td>32.4519</td><td>0.6</td><td>0.4444444444444444</td></tr>",
                            "<tr><td>Information Services</td><td>Sharma</td><td>32.4519</td><td>0.6</td><td>0.4444444444444444</td></tr>",
                            "<tr><td>Information Services</td><td>Bacon</td><td>27.4038</td><td>0.4</td><td>0</td></tr>",
                            "<tr><td>Information Services</td><td>Meyyappan</td><td>27.4038</td><td>0.4</td><td>0</td></tr>",
                            "<tr><td>Information Services</td><td>Berg</td><td>27.4038</td><td>0.4</td><td>0</td></tr>",
                            "<tr><td>Information Services</td><td>Bueno</td><td>27.4038</td><td>0.4</td><td>0</td></tr>",
                            "</table>"
                        ]
                    }
                }
            ],
            "execution_count": 1
        }
    ]
}